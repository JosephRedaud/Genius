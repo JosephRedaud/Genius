{
 "cells": [
  {
   "cell_type": "markdown",
   "id": "2f5e84a8",
   "metadata": {},
   "source": [
    "Vous trouverez ici plusieurs activités de programmation autour de l’ensemble de Mandelbrot ; certaines sont plus difficiles que d’autres, c’est normal. Essayez d’y réfléchir par vous-mêmes avant de regarder la correction !\n",
    "\n",
    "L’objectif de cet exercice est de programmer certaines fonctions de base qui seront utilisées pour calculer l’ensemble de Mandelbrot de manière informatique. L’intérêt est de bien comprendre le fonctionnement de l’algorithme, plus complet, que nous allons vous donner ensuite ;)"
   ]
  },
  {
   "cell_type": "markdown",
   "id": "22ae9dfb",
   "metadata": {},
   "source": [
    "Tout d'abord, on importe les librairies nécessaires, et on procède à quelques petits ajustements. La variable j prend la valeur 1j, ce qui nous permettra d'utiliser \"j\" ou \"1j\" comme on le souhaite, ce qui est plus pratique pour manipuler des complexes. Pour rappel j est le nombre imaginaire tel que j²=-1. On le note aussi i.\n",
    "\n",
    "Vous n'avez rien à compléter dans cette section **(mais n'oubliez pas de l'éxecuter !)**."
   ]
  },
  {
   "cell_type": "code",
   "execution_count": null,
   "id": "4ab91e7d",
   "metadata": {},
   "outputs": [],
   "source": [
    "import numpy as np\n",
    "import math as math\n",
    "import matplotlib.pyplot as plt\n",
    "import time\n",
    "\n",
    "j=1j #pratique\n",
    "\n",
    "plt.rcParams['figure.figsize'] = [14, 14] #Redimensionne l'affichage"
   ]
  },
  {
   "cell_type": "markdown",
   "id": "8f693c61",
   "metadata": {},
   "source": [
    "Pour calculer l’ensemble de Mandelbrot, on utilise la suite récurrente z(n+1)=z(n)^2+C. Complétez la fonction “suite()” qui prend en entrée deux arguments complexes z et C, et renvoie le terme suivant zn_plus_un dans cette suite de paramètre C. \n",
    "\n",
    "**ATTENTION : pour mettre un nombre complexe z au carre, il faut utiliser z\\*\\*2 et non pas z^2**\n"
   ]
  },
  {
   "cell_type": "code",
   "execution_count": null,
   "id": "81221aa0",
   "metadata": {},
   "outputs": [],
   "source": [
    "def suite(zn,C):\n",
    "    \n",
    "    \"\"\"\n",
    "    Calcule le terme suivant d'une suite récurrente. \n",
    "    ATTENTION : pour mettre un nombre complexe z au carre, il faut utiliser z**2 et non pas z^2\n",
    "    \"\"\"\n",
    "    \n",
    "    zn_plus_un=??? #A compléter\n",
    "\n",
    "    return(zn_plus_un)"
   ]
  },
  {
   "cell_type": "markdown",
   "id": "7a3520f5",
   "metadata": {},
   "source": [
    "Testez votre fonction, par exemple avec (z=0, C=2) et (z=1+i, C=-i) et vérifiez le résultat à la main."
   ]
  },
  {
   "cell_type": "code",
   "execution_count": null,
   "id": "39a8ac0a",
   "metadata": {},
   "outputs": [],
   "source": []
  },
  {
   "cell_type": "markdown",
   "id": "47a73c6a",
   "metadata": {},
   "source": [
    "Ensuite, on souhaite savoir si une telle suite est divergente. On se donne un certain rayon, 2, et un rang maximum rang_max. Complétez la fonction “estDivergente()” qui prend deux arguments rang_max (entier naturel) et C (complexe), et qui renvoie True dès que la suite z(n+1)=z(n)^2+C est considérée comme divergente, ou False si tous les termes jusqu’à rang_max sont de module inférieur au rayon 2. \n",
    "\n",
    "INDICE : On peut utiliser la fonction **np.abs(z)** pour calculer le module d'un nombre complexe z. Vous aurez besoin de faire appel à la fonction suite. Vous pouvez vous aider de la vidéo de cours !\n"
   ]
  },
  {
   "cell_type": "code",
   "execution_count": null,
   "id": "90bfc6cd",
   "metadata": {},
   "outputs": [],
   "source": [
    "def estDivergente(C, rang_max):\n",
    "\n",
    "    \"\"\"\n",
    "    La fonction indique si la suite issue du nombre complexe C est divergente (i.e. C n'appartient pas à l'ensemble que l'on calcule)\n",
    "    'C' est le nombre complexe dont est issue la suite (i.e le complexe dont on veut savoir s'il appartient à l'ensemble)\n",
    "    'rang_max' est le rang maximal pour lequel on détermine si la suite est bornée. Si |z|<2 à rang_max, on considère que la suite est bornée.\n",
    "    \"\"\"\n",
    "\n",
    "    ??? #Complétez la fonction estDivergente() avec les informations de l'énoncé\n",
    "\n",
    "   \n",
    "\n"
   ]
  },
  {
   "cell_type": "markdown",
   "id": "d2645554",
   "metadata": {},
   "source": [
    "Testez votre fonction avec : \n",
    "\n",
    " a) (C=0,rang_max =50)\n",
    "\n",
    " b) (C=0.2, rang_max =10)\n",
    "\n",
    " c) (C=0.5,rang_max =10)\n",
    "\n",
    " d) (C=0.26, rang_max =10)\n",
    "\n",
    " e) (C=0.26, rang_max =100)\n",
    "\n",
    "Que constatez-vous dans ces deux derniers cas ?"
   ]
  },
  {
   "cell_type": "code",
   "execution_count": null,
   "id": "a3b096ad",
   "metadata": {},
   "outputs": [],
   "source": []
  },
  {
   "cell_type": "markdown",
   "id": "98a76e8b",
   "metadata": {},
   "source": [
    "La cellule suivante contient la fonction Affiche(), qui permet d'afficher la matrice calculée (en noir et blanc). \n",
    "\n",
    "Vous n'avez rien à compléter dans cette cellule **(mais n'oubliez pas de l'éxecuter !)**."
   ]
  },
  {
   "cell_type": "code",
   "execution_count": 1,
   "id": "1eac613b",
   "metadata": {},
   "outputs": [],
   "source": [
    "def affiche(matrice, xmin, xmax, ymin, ymax):\n",
    "\n",
    "    \"\"\"\n",
    "    permet d'afficher la matrice\n",
    "    xmin, xmax, ymin, ymax sont des REELS correspondant aux limites des axes sur lesquels l'image correspondant à la matrice est affichée.\n",
    "    \"\"\"\n",
    "\n",
    "    plt.imshow(matrice, extent = ([xmin, xmax, ymin, ymax]))\n",
    "    plt.show()"
   ]
  },
  {
   "cell_type": "markdown",
   "id": "cfe98b79",
   "metadata": {},
   "source": [
    "La cellule suivante contient le main() de votre programme. On se donne un rectangle du plan complexe (par défaut, le rectangle qui va du point -2-1.1j au point 0.5+1.1j). On crée un tableau matriceCouleur qui contient des triplets de couleur. On effectue ensuite une double boucle pour parcourir toutes les cases de ce tableau et la compléter suivant que le point associé appartient ou non à l'ensemble de Mandelbrot. complétez le programme suivant ! Vous pouvez vous aider de la vidéo de cours."
   ]
  },
  {
   "cell_type": "code",
   "execution_count": null,
   "id": "eaa24c15",
   "metadata": {},
   "outputs": [],
   "source": [
    "def main(xmin=-2, xmax=0.5, ymin=-1.1, ymax=1.1, rang_max=50,  nb_points_ligne=200):\n",
    "\n",
    "    \"\"\"\n",
    "    xmin, xmax, ymin, ymax = définit le rectangle du plan complexe dans lequel on fait les calculs\n",
    "    'rang_max' est le rang maximal pour lequel on détermine si la suite est bornée. Si |z|<2 à rang_max, on considère que la suite est bornée.\n",
    "    nb_points_ligne = nombre de points calculés par ligne (qualité de l'image). Le nombre de ligne est calculé automatiquement à partir des autres arguments.\n",
    "    TOUS LES ARGUMENTS SONT OPTIONNELS (ils ont une valeur par défaut)\n",
    "    \"\"\"\n",
    "\n",
    "    plt.close() #Ferme les images précédentes si il y en avait\n",
    "    pas=??? #completez avec le pas en abcisse entre 2 points calculés du plan complexe\n",
    "    nb_lignes=??? #Completez avec le nombre de lignes à calculer. Conseil : trouvez un nombre de ligne qui permette d'afficher des pixels carrés !\n",
    "    matriceCouleur=np.zeros([nb_lignes,nb_points_ligne,3], dtype=float)#on crée une matrice qui contient des triplets de flottants\n",
    "\n",
    "    for x in range(nb_points_ligne):\n",
    "        for y in range(nb_lignes):#double boucle pour parcourir le plan complexe\n",
    "\n",
    "            xc=??? #coordonees du point que l'on teste actuellement\n",
    "            yc=??? #coordonees du point que l'on teste actuellement\n",
    "\n",
    "            divergente = ???  #La suite est-elle divergente (True/False) ?\n",
    "\n",
    "            #Colorisation\n",
    "            #On colorie en noir les points qui appartiennent à l'ensemble de Mandelbrot, et en blanc les autres\n",
    "            #Le triplet (0.,0.,0.) correspond à la couleur noire, et le triplet (1.,1.,1.) à la couleur blanche\n",
    "\n",
    "            ??? #Completez la colorisation\n",
    "\n",
    "    affiche(matriceCouleur, xmin, xmax, ymin, ymax)\n",
    "\n",
    "    return()"
   ]
  },
  {
   "cell_type": "markdown",
   "id": "acee5811",
   "metadata": {},
   "source": [
    "Félicitations, votre programme est complet ! Testez la fonction main() sans aucun argument."
   ]
  },
  {
   "cell_type": "code",
   "execution_count": null,
   "id": "bc1894ef",
   "metadata": {},
   "outputs": [],
   "source": []
  },
  {
   "cell_type": "markdown",
   "id": "92dab71f",
   "metadata": {},
   "source": [
    "Vous pouvez maintenant tester la fonction main en changeant les arguments optionnels. Par exemple, appelez main(nb_points_ligne=100), main(xmin=-3,xmax=1)... Observez l'influence des paramètres sur la figure."
   ]
  },
  {
   "cell_type": "code",
   "execution_count": null,
   "id": "12d542bb",
   "metadata": {},
   "outputs": [],
   "source": []
  }
 ],
 "metadata": {
  "kernelspec": {
   "display_name": "Python 3",
   "language": "python",
   "name": "python3"
  },
  "language_info": {
   "codemirror_mode": {
    "name": "ipython",
    "version": 3
   },
   "file_extension": ".py",
   "mimetype": "text/x-python",
   "name": "python",
   "nbconvert_exporter": "python",
   "pygments_lexer": "ipython3",
   "version": "3.8.10"
  }
 },
 "nbformat": 4,
 "nbformat_minor": 5
}
