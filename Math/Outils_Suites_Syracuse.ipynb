{
 "cells": [
  {
   "cell_type": "markdown",
   "metadata": {},
   "source": [
    "# Suite de Syracuse"
   ]
  },
  {
   "cell_type": "markdown",
   "metadata": {},
   "source": [
    "La suite Syracuse est une suite définie implicitement par $U_{n+1} = \\frac{U_n}{2}$ si $U_n$ est pair et $U_{n+1} = 3U_n+1$ si $U_n$ est impair. \n",
    "On compare souvent le comportement de cette suite à la chute chaotique d'un grêlon. Vous allez comprendre pourquoi par la suite."
   ]
  },
  {
   "cell_type": "markdown",
   "metadata": {},
   "source": [
    "### 1) Implémenter la suite Un."
   ]
  },
  {
   "cell_type": "code",
   "execution_count": 4,
   "metadata": {},
   "outputs": [],
   "source": [
    "import numpy as np \n",
    "import matplotlib.pyplot as plt \n",
    "\n",
    "def Syracuse(u0,n):\n",
    "    #initialisation\n",
    "    #A COMPLETER\n",
    "    u=                    \n",
    "    L = [u]\n",
    "    #nombre d iterations de la suite\n",
    "    for k in range(1,n) :\n",
    "        #si Un est paire\n",
    "        if u%2==0:\n",
    "            #A COMPLETER\n",
    "            u=\n",
    "        #si Un est impaire\n",
    "        else :\n",
    "            #A COMPLETER\n",
    "            u = \n",
    "        L.append(u)\n",
    "        \n",
    "    t = np.arange(0,n,1)\n",
    "    plt.plot(t,L)\n"
   ]
  },
  {
   "cell_type": "markdown",
   "metadata": {},
   "source": [
    "### 2) Tester votre code avec différentes valeurs de $U_0$ (32,15,27...). Que peut-on dire ? "
   ]
  },
  {
   "cell_type": "code",
   "execution_count": 6,
   "metadata": {},
   "outputs": [
    {
     "name": "stdout",
     "output_type": "stream",
     "text": [
      "yo\n",
      "hello\n"
     ]
    },
    {
     "data": {
      "image/png": "[encoded data removed]",
      "text/plain": [
       "<Figure size 432x288 with 1 Axes>"
      ]
     },
     "metadata": {
      "needs_background": "light"
     },
     "output_type": "display_data"
    }
   ],
   "source": [
    "u0 = \n",
    "n = \n",
    "Syracuse(u0,n)"
   ]
  },
  {
   "cell_type": "markdown",
   "metadata": {},
   "source": [
    "### 3) On remarque que, quel que soit le $U_0$ choisi, à partir d'un certain rang, une même séquence de nombres se répète à l'infini. Quelle est cette séquence?"
   ]
  },
  {
   "cell_type": "markdown",
   "metadata": {},
   "source": [
    "#### Vous pouvez retrouver la correction de l'exercice à la fin du module"
   ]
  },
  {
   "cell_type": "code",
   "execution_count": null,
   "metadata": {},
   "outputs": [],
   "source": []
  }
 ],
 "metadata": {
  "kernelspec": {
   "display_name": "Python 3",
   "language": "python",
   "name": "python3"
  },
  "language_info": {
   "codemirror_mode": {
    "name": "ipython",
    "version": 3
   },
   "file_extension": ".py",
   "mimetype": "text/x-python",
   "name": "python",
   "nbconvert_exporter": "python",
   "pygments_lexer": "ipython3",
   "version": "3.7.4"
  }
 },
 "nbformat": 4,
 "nbformat_minor": 5
}
