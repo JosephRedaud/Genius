{
 "cells": [
  {
   "cell_type": "markdown",
   "metadata": {},
   "source": [
    "# Deux propriétés remarquables du nombre d'or\n"
   ]
  },
  {
   "cell_type": "markdown",
   "metadata": {},
   "source": [
    "On note $\\phi$ le nombre d'or\n",
    "\n",
    "1) Calcule $\\sqrt{1+\\phi}$ et $\\phi$ à l'aide de Python (n'oublie pas \"d'importer\" ce qu'il faut au préalable).\\\n",
    "Que remarques-tu ? Qu'est-ce que tu peux en conclure ? \n",
    "\n",
    "2) Même question en calculant $1 + \\frac{1}{\\phi}$ et $\\phi$. \n",
    "\n",
    "3) Peux-tu démontrer ces formules ?"
   ]
  },
  {
   "cell_type": "code",
   "execution_count": null,
   "metadata": {},
   "outputs": [],
   "source": []
  }
 ],
 "metadata": {
  "kernelspec": {
   "display_name": "Python 3",
   "language": "python",
   "name": "python3"
  },
  "language_info": {
   "codemirror_mode": {
    "name": "ipython",
    "version": 3
   },
   "file_extension": ".py",
   "mimetype": "text/x-python",
   "name": "python",
   "nbconvert_exporter": "python",
   "pygments_lexer": "ipython3",
   "version": "3.7.4"
  }
 },
 "nbformat": 4,
 "nbformat_minor": 2
}
