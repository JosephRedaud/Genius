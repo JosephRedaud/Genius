{
 "cells": [
  {
   "attachments": {
    "Coeff_binomiaux_text.png": {
     "image/png": "[encoded data removed]"
    }
   },
   "cell_type": "markdown",
   "id": "occupational-highland",
   "metadata": {},
   "source": [
    "# Exercice 1 : Coefficients binomiaux\n",
    "\n",
    "## Objectif\n",
    "L’objectif de cette exercice est de représenter graphiquement des coefficients binomiaux sous la forme suivante :\n",
    "![Coeff_binomiaux_text.png](attachment:Coeff_binomiaux_text.png)\n",
    "\n"
   ]
  },
  {
   "attachments": {
    "binom_coul_1.png": {
     "image/png": "[encoded data removed]"
    }
   },
   "cell_type": "markdown",
   "id": "polished-delicious",
   "metadata": {},
   "source": [
    "En remplaçant chaque coefficient binomial par un carré de couleur associé à sa valeur. La figure obtenue étant sur un fond d’une couleur donnée. \n",
    "\n",
    "On peut par exemple choisir le code couleur suivant : si la valeur du coefficient est supérieure ou égale à deux, la case est verte, sinon la case est jaune. La couleur du fond est noire. Voici la figure obtenue :\n",
    "![binom_coul_1.png](attachment:binom_coul_1.png)"
   ]
  },
  {
   "attachments": {
    "coeff_bin_2.png": {
     "image/png": "[encoded data removed]"
    }
   },
   "cell_type": "markdown",
   "id": "interracial-custody",
   "metadata": {},
   "source": [
    "Posons N la plus grande valeur de n telle que l’on calcule k parmi n pour tout k entre 0 et n. La figure ci-dessus représente le cas N=2. Avec la même règle de représentation, nous obtenons la figure suivante pour N = 8 :\n",
    "\n",
    "\n",
    "![coeff_bin_2.png](attachment:coeff_bin_2.png)"
   ]
  },
  {
   "cell_type": "markdown",
   "id": "liked-fight",
   "metadata": {},
   "source": [
    "\n",
    "#### L’objectif de cet exercice sera de faire des représentations graphiques des coefficients binomiaux pour de grandes valeurs de N et pour différentes colorations.\n",
    "\n",
    "\n",
    "## Méthode\n",
    "Pour ce faire, nous allons de nouveau utiliser Python. Il y a deux grandes étapes :\n",
    "\n",
    " 1- Le calcul des coefficients binomiaux\n",
    " \n",
    " 2- L'affichage"
   ]
  },
  {
   "cell_type": "markdown",
   "id": "latest-symposium",
   "metadata": {},
   "source": [
    "## 1- Calcul des coefficients binomiaux         \n",
    "                                                  \n",
    "Nous souhaitons calculer tous les coefficients binomiaux coeff(n, k) pour tout couple(n, k) tel que 0<=k<=n<=N. \n",
    "\n",
    "Nous allons donc créer une matrice matCoefs qui contient tous ces coefficients binomiaux. \n",
    "L'indice en ligne est n et l'indice en colonne est k. Si un coefficient n'est pas encore calculé ou n'existe pas, son emplacement dans la matrice est rempli par -1.\n",
    "\n",
    "Voici un exemple de matCoefs pour N = 2 :    "
   ]
  },
  {
   "cell_type": "raw",
   "id": "instructional-exhibition",
   "metadata": {},
   "source": [
    "    \n",
    " <--------------------k------------------->          \n",
    "^[[ coeff(0, 0),     -1     ,       -1    ], \n",
    "|                                            \n",
    "n [ coeff(1, 0), coeff(1, 1),       -1    ], \n",
    "|                                            \n",
    "v [ coeff(2, 0), coeff(2, 1), coeff(2, 2) ]] \n",
    "                                                  "
   ]
  },
  {
   "cell_type": "markdown",
   "id": "metropolitan-match",
   "metadata": {},
   "source": [
    "### Définition des paramètres"
   ]
  },
  {
   "cell_type": "code",
   "execution_count": 102,
   "id": "gorgeous-drunk",
   "metadata": {},
   "outputs": [],
   "source": [
    "def cree_matCoefs(N):\n",
    "    \"\"\"\n",
    "    Prérequis : N>= 0\n",
    "    Renvoie une matrice de taille (N+1) * (N+1) dont tous les coefficients valent -1\n",
    "    \"\"\"\n",
    "    matCoefs = [[-1] * (N+1)] * (N+1)]\n",
    "    # Pour l'instant matCoefs contient N+1 fois la même variable ligne : donc si l'une \n",
    "    # des lignes de la matrice est modifiée, toutes les autres le sont également puisqu'il\n",
    "    # ne s'agit en réalité que d'une seule et même ligne. On parle d'aliasing.\n",
    "    # Ce n'est pas ici le propos, nous allons donc simplement remplacer les N premières\n",
    "    # lignes par des lignes qui ont la même valeur mais ne sont pas la même variable.\n",
    "    for i in range(N) :\n",
    "        matCoefs[i] = [-1] * (N+1)\n",
    "    return(matCoefs)"
   ]
  },
  {
   "cell_type": "code",
   "execution_count": 113,
   "id": "australian-burns",
   "metadata": {},
   "outputs": [],
   "source": [
    "# N est la valeur maximale de n pour laquelle on calculera les coeff(N, k)\n",
    "N = 5                          \n",
    "matCoefs = cree_matCoefs(N)"
   ]
  },
  {
   "cell_type": "markdown",
   "id": "oriented-forty",
   "metadata": {},
   "source": [
    "### Calcul d'un unique coefficient binomial\n",
    "Pour commencer, remplissez la fonction coeff qui renvoie un seul coefficient binomial. Elle permettra de remplir matCoefs. \n",
    "\n",
    "#### N'oubliez pas de lire les prérequis de la fonction ainsi que les conseils dispensés en commentaires. "
   ]
  },
  {
   "cell_type": "code",
   "execution_count": 104,
   "id": "grateful-powell",
   "metadata": {},
   "outputs": [],
   "source": [
    "def coeff(n, k) :\n",
    "    \"\"\"\n",
    "    Prérequis : k et n sont des entiers naturels et 0<=k<=n\n",
    "    Range le coefficient binomial coeff(n, k) dans la matrice matCoeffs.\n",
    "    Ne renvoi rien.\"\"\"\n",
    "    \n",
    "    ##############################################################################\n",
    "    #                                  Conseils                                  #\n",
    "    # Pensez à optimiser le calcul des coefficients binomiaux, pour cela, il est #\n",
    "    # judicieux de se renseigner sur les relations entre les différents          #\n",
    "    # coefficients binomiaux. Découper le problème en sous-problème et stocker   #\n",
    "    # les valeurs précédemment calculées pour calculer les suivantes plutôt que  #\n",
    "    # d'utiliser une formule générale s'appelle \"programmation dynamique\" et     #\n",
    "    # permet de réduire très très fortement le temps de calcul.                  #\n",
    "    # Il peut être utile de rendre la fonction récursive.                        #\n",
    "    # On veillera à ce que tous les cas de figure prévus par les spécifications  #\n",
    "    # soient pris en compte.                                                     #\n",
    "    ##############################################################################\n",
    "    \n",
    "    # On s'assure que n>=k>=0\n",
    "    assert(n >= k)\n",
    "    assert(k >= 0)\n",
    "    \n",
    "    # Remplir ici\n",
    "    \n",
    "    # On regarde tout d'abord si le coefficient a déjà été calculé. Si tel est le \n",
    "    # cas, on s'arrête là.\n",
    "    \n",
    "    if matCoefs[n][k] != -1 :\n",
    "        pass \n",
    "    else :\n",
    "        \n",
    "        # matCoefs[n][k] vaut -1, donc coeff(n, k) n'est pas connu et doit être calculé.\n",
    "        \n",
    "        if n == 0 or k ==0 or k == n:\n",
    "            \n",
    "            # Si l'on se trouve dans l'une de ces trois situations, coeff(n, k) vaut 1\n",
    "            # Il est donc inutile de le calculer.\n",
    "            \n",
    "            matCoefs[n][k] = 1\n",
    "            \n",
    "        \n",
    "        else :\n",
    "        \n",
    "            # Si ce n'est pas le cas, il faut calculer la valeur de coeff(n, k). Pour \n",
    "            # cela nous utiliserons la formule suivante qui est alors valide :\n",
    "            #  coeff(n, k) = coeff(n-1, k-1) + coeff(n-1, k)\n",
    "        \n",
    "            # L'utilisation de cette formule nécessite de traîter à part les cas n=0,\n",
    "            # k=0 et k=n, ce qui a été fait plus haut.\n",
    "        \n",
    "            # Comme nous utilisons d'autres coefficients binomiaux pour calculer coeff(n,k)\n",
    "            # il nous faut nous assurer que ceux-ci sont déjà calculés et s'ils ne le \n",
    "            # sont pas, il faut les calculer. On utilise pour cela matCoefs qui répertorie\n",
    "            # tous les coefficients déjà calculés.\n",
    "        \n",
    "            if matCoefs[n-1][k-1] == -1 :\n",
    "                coeff(n-1, k-1)\n",
    "                \n",
    "            if matCoefs[n-1][k] == -1 :\n",
    "                coeff(n-1, k)\n",
    "                \n",
    "            \n",
    "            # Application de la formule\n",
    "        \n",
    "            matCoefs[n][k] = matCoefs[n-1][k-1] + matCoefs[n-1][k]"
   ]
  },
  {
   "cell_type": "markdown",
   "id": "familiar-mobile",
   "metadata": {},
   "source": [
    "Testez la fonction codée et comparez les résultats obtenus avec des coefficients calculés à la main. \n",
    "Un bon test prend en compte différents cas de figure dont les cas limites comme k=n=0, k=n etc."
   ]
  },
  {
   "cell_type": "code",
   "execution_count": 105,
   "id": "sitting-livestock",
   "metadata": {},
   "outputs": [
    {
     "name": "stdout",
     "output_type": "stream",
     "text": [
      "[[1, -1, -1, -1, -1, -1], [1, 1, -1, -1, -1, -1], [1, 2, -1, -1, -1, -1], [1, 3, -1, -1, -1, -1], [-1, 4, -1, -1, -1, -1], [-1, -1, -1, -1, -1, 1]]\n"
     ]
    }
   ],
   "source": [
    "coeff(0, 0)\n",
    "coeff(3, 0) \n",
    "coeff(4, 1)\n",
    "coeff(5, 5)\n",
    "coeff(1, 1)\n",
    "print(matCoefs)"
   ]
  },
  {
   "cell_type": "markdown",
   "id": "accepted-phrase",
   "metadata": {},
   "source": [
    "Le temps de calcul est-il satisfaisant ? Si ce n'est pas le cas, il vous faut coder cette fonction de manière plus efficace. Pour cela suivez les conseils en commentaires."
   ]
  },
  {
   "cell_type": "markdown",
   "id": "funded-heather",
   "metadata": {},
   "source": [
    "### Remplissage de la matrice matCoeffs\n",
    "Il est maintenant temps de remplir la matrice matCoefs. Pour cela, complétez la fonction rempli_matCoefs.\n",
    "\n",
    "#### N'oubliez pas de lire les prérequis de la fonction ainsi que les conseils dispensés en commentaires."
   ]
  },
  {
   "cell_type": "code",
   "execution_count": 106,
   "id": "established-stanley",
   "metadata": {},
   "outputs": [],
   "source": [
    "def rempli_matCoefs(N) :\n",
    "    \"\"\"\n",
    "    Prérequis : \n",
    "    N est un entier naturel.\n",
    "    matCoefs est une matrice de taille (N+1)*(N+1).\n",
    "    \n",
    "    Revoie une matrice d'entier naturels contenant en position (n, k) coeff(n, k) \n",
    "    si ce nombre existe et -1 sinon.\n",
    "    \"\"\"\n",
    "    \n",
    "    ##############################################################################\n",
    "    #                                  Conseils                                  #\n",
    "    # Faites appel à la fonction coeff et réfléchissez à l'ordre de remplissage  #\n",
    "    # pour permettre de faciliter le calcul de coeff(n, k)                       #\n",
    "    ##############################################################################\n",
    "    \n",
    "    # Remplir ici\n",
    "    \n",
    "    # Comme nous avons veillé dans la fonction coeff à ce que tous les cas soient\n",
    "    # traités correctement et que les coefficients déjà calculés ne le soient pas \n",
    "    # deux fois, l'ordre de calcul n'est pas important. \n",
    "    # Si nous n'avions pas pris soin d'éviter les répétitions de calcul, nous devrions\n",
    "    # nous soucier de l'ordre des calculs.\n",
    "    \n",
    "    for n in range(N + 1):\n",
    "        for k in range(n + 1) :\n",
    "            coeff(n, k)"
   ]
  },
  {
   "cell_type": "markdown",
   "id": "numerous-reggae",
   "metadata": {},
   "source": [
    "Testez votre fonction en utilisant une petite valeur de N."
   ]
  },
  {
   "cell_type": "code",
   "execution_count": 107,
   "id": "amber-sheep",
   "metadata": {},
   "outputs": [
    {
     "name": "stdout",
     "output_type": "stream",
     "text": [
      "[[1, -1, -1, -1, -1, -1], [1, 1, -1, -1, -1, -1], [1, 2, 1, -1, -1, -1], [1, 3, 3, 1, -1, -1], [1, 4, 6, 4, 1, -1], [1, 5, 10, 10, 5, 1]]\n"
     ]
    }
   ],
   "source": [
    "N = 5\n",
    "matCoefs = cree_matCoefs(N)\n",
    "rempli_matCoefs(N)\n",
    "print(matCoefs)"
   ]
  },
  {
   "cell_type": "markdown",
   "id": "ethical-general",
   "metadata": {},
   "source": [
    "## 2- Affichage\n",
    "L'affichage se fait en trois temps :\n",
    "\n",
    "1- Associer une couleur à chaque coefficient binomial\n",
    "\n",
    "2- Associer une position et une taille sur l'image à chaque coefficient binomial\n",
    "\n",
    "3- Créer l'image\n",
    "\n",
    "Les détailles techniques de chaque étape seront détaillés au fur et à mesure."
   ]
  },
  {
   "cell_type": "markdown",
   "id": "continental-snapshot",
   "metadata": {},
   "source": [
    "## 2-1- La couleur\n",
    "Commençons d'abord par définir quelques paramètres importants."
   ]
  },
  {
   "cell_type": "code",
   "execution_count": 108,
   "id": "crazy-orange",
   "metadata": {},
   "outputs": [],
   "source": [
    "# nombre de bits utilisé pour chaque composante R, G\n",
    "# et B de l'affichage\n",
    "nb_bits_couleurs = 8\n",
    "# nombre de valeur pouvant être prise par ces bits\n",
    "nb_niveaux_gris = 2**nb_bits_couleurs\n",
    "# valeur associée à la couleur noire\n",
    "NOIR = 0\n",
    "# valeur associée à la couleur blanche\n",
    "BLANC = nb_niveaux_gris - 1"
   ]
  },
  {
   "cell_type": "markdown",
   "id": "municipal-festival",
   "metadata": {},
   "source": [
    "La couleur d'un pixel est remprésentée par un triplet d'entiers compris entre NOIR et BLANC. Il définit le niveau de luminosité de chaque composante RGB de la couleur.\n",
    "\n",
    "Voici quelques exemples :"
   ]
  },
  {
   "cell_type": "raw",
   "id": "controlling-lucas",
   "metadata": {},
   "source": [
    "Rouge   : [BLANC, NOIR , NOIR ]\n",
    "Vert    : [NOIR , BLANC, NOIR ]\n",
    "Bleu    : [NOIR , NOIR , BLANC] \n",
    "Jaune   : [BLANC, BLANC, NOIR ]\n",
    "Magenta : [BLANC, NOIR , BLANC]\n",
    "Blanc   : [BLANC, BLANC, BLANC]"
   ]
  },
  {
   "cell_type": "markdown",
   "id": "emotional-parliament",
   "metadata": {},
   "source": [
    "Remplissez la fonction trouve_couleur qui associe une couleur à chaque valeur de coefficient binomial.\n",
    "Vous pouvez choisir la colorisation qui vous convient."
   ]
  },
  {
   "cell_type": "code",
   "execution_count": 109,
   "id": "spread-wrestling",
   "metadata": {},
   "outputs": [],
   "source": [
    "def trouve_couleur(valeur, NOIR, BLANC) :\n",
    "    \"\"\"\n",
    "    Prérequis :\n",
    "    Valeur, NOIR et BLANC sont des entiers, BLANC > NOIR >= 0.\n",
    "    \n",
    "    Renvoie un tableau à trois éléments. Ces éléments sont des entiers compris entre \n",
    "    NOIR et BLANC inclus.\n",
    "    Ce tableau représente la couleur associée à une valeur de coefficient binomial\n",
    "    valeur dans la convention RGB décrite ci-dessus.\n",
    "    \"\"\"\n",
    "    \n",
    "    # Nous commençons la fonction par des tests afin de s'assurer que les prérequis\n",
    "    # concernant NOIR et BLANC sont respecté. Il est laissé au programmeur la possibilité\n",
    "    # d'ajouter des tests supplémentaires. \n",
    "    \n",
    "    assert(NOIR >= 0)\n",
    "    assert(BLANC > NOIR)\n",
    "    \n",
    "    # Remplissez la fin de la fonction\n",
    "    \n",
    "    #####################################################################################\n",
    "    #  On choisit ici de code couleur présenté en introduction :                        #\n",
    "    #  -jaune si coeff(n,k) < 2                                                         #\n",
    "    #  -vert sinon                                                                      #\n",
    "    #  -noir pour le fond                                                               #\n",
    "    #####################################################################################\n",
    "    \n",
    "    jaune = [BLANC, BLANC, NOIR]\n",
    "    vert = [NOIR , BLANC, NOIR ]\n",
    "    \n",
    "    if valeur < 2 :\n",
    "        return jaune\n",
    "    else :\n",
    "        return vert"
   ]
  },
  {
   "cell_type": "markdown",
   "id": "virgin-rendering",
   "metadata": {},
   "source": [
    "### 2-2- La position et la taille\n",
    "Il nous faut maintenant associer à chaque coefficient binomial sa taille et sa position dans l'image.\n",
    "\n",
    "Commençons par sa taille, :"
   ]
  },
  {
   "cell_type": "code",
   "execution_count": 110,
   "id": "third-laser",
   "metadata": {},
   "outputs": [],
   "source": [
    "# Longueur du côté des cases représentant les coefficients\n",
    "taille_case = 3 # en nombre de pixels"
   ]
  },
  {
   "cell_type": "markdown",
   "id": "particular-throw",
   "metadata": {},
   "source": [
    "Nous définissons maintenant la fonction zone_case qui, pour un coefficent coeff(n, k), renvoie deux tableaux indiquant quels pixels représentent coeff(n,k). Il s'agit ici uniquement de savoir où ces pixels seront et non pas de quelle couleur ils seront."
   ]
  },
  {
   "cell_type": "code",
   "execution_count": 19,
   "id": "positive-substitute",
   "metadata": {},
   "outputs": [],
   "source": [
    "def zone_case(N, n, k, taille_case):\n",
    "    \"\"\" \n",
    "    Prérequis :\n",
    "    N, n et k sont des entiers naturels, N est non nul et k<=n.\n",
    "    \n",
    "    Renvoie un couple de tableaux d'entiers (intervalle_i, intervalle_j). Ces tableaux sont\n",
    "    tels que dans une représentation pyramidale des coefficients binomiaux, le coefficient \n",
    "    coeff(n, k) est représenté par une case dont les pixels ont des coordonnées (i, j) \n",
    "    avec i dans intervalle_i et j dans intervalle_j.\n",
    "    \"\"\"\n",
    "    intervalle_i = range(n * taille_case, (n+1) *  taille_case)\n",
    "    intervalle_j = range((2 * k + (N - n))* taille_case, (2 * k + (N - n) + 1)* taille_case )\n",
    "    return intervalle_i, intervalle_j"
   ]
  },
  {
   "cell_type": "markdown",
   "id": "thermal-final",
   "metadata": {},
   "source": [
    "### 2-3- Création de l'image\n",
    "Pour afficher l'image, il nous faut tout d'abord définir la couleur du fond."
   ]
  },
  {
   "cell_type": "code",
   "execution_count": 20,
   "id": "legendary-words",
   "metadata": {},
   "outputs": [],
   "source": [
    "# Représentation de la couleur du fond au format RGB\n",
    "couleur_fond = [NOIR, NOIR, NOIR]"
   ]
  },
  {
   "cell_type": "markdown",
   "id": "verified-gothic",
   "metadata": {},
   "source": [
    "Importons la librairie nécessaire au tracé."
   ]
  },
  {
   "cell_type": "code",
   "execution_count": 21,
   "id": "mathematical-dance",
   "metadata": {},
   "outputs": [],
   "source": [
    "import matplotlib.pyplot as plt"
   ]
  },
  {
   "cell_type": "markdown",
   "id": "third-daughter",
   "metadata": {},
   "source": [
    "Définissons maintenant la fonction affiche_coefs qui affiche la représentation des coefficients binomiaux."
   ]
  },
  {
   "cell_type": "code",
   "execution_count": 78,
   "id": "precise-numbers",
   "metadata": {},
   "outputs": [],
   "source": [
    "def affiche_coefs(N, matCoefs, couleur_fond, taille_case, trouve_couleur):\n",
    "    \"\"\"\n",
    "    Affiche une image représentant les coefficients de matCoeffs selon le code \n",
    "    couleur prévus dans la fonction trouve_couleur.\n",
    "    \n",
    "    Prérequis :\n",
    "    N est un entier positif.\n",
    "    matCoefs est une matrice d'entiers positifs de taille (N+1)*(N+1).\n",
    "    Couleur_fond est un entier compris entre BLANC et NOIR.\n",
    "    trouve_couleur est une fonction répondant aux spécifications suivantes :\n",
    "    ---------------------------------------------------------------------------------- \n",
    "    def trouve_couleur(valeur, NOIR, BLANC) :  \n",
    "        Prérequis :\n",
    "        Valeur, NOIR et BLANC sont des entiers, BLANC > NOIR >= 0.\n",
    "    \n",
    "        Renvoie un tableau à trois éléments. Ces éléments sont des entiers compris entre \n",
    "        NOIR et BLANC inclus.\n",
    "        Ce tableau représente la couleur associée à une valeur de coefficient binomial\n",
    "        valeur dans la convention RGB décrite ci-dessus.\n",
    "    ----------------------------------------------------------------------------------\n",
    "    \"\"\"\n",
    "    # matImage est la matrice contenant les couleurs de tous les pixels, tels qu'ils\n",
    "    # seront positionnés dans l'image (l'élément en position [i][j] dans la matrice \n",
    "    # représente le pixel sur la i-ème ligne et la j-ème colonne).\n",
    "    # Ses dimensions sont donc les dimensions de l'image :\n",
    "    #   largeur : (2 * N + 1) * taille_case pour N + 1 coefficients et N cases vides sur la dernières ligne\n",
    "    #   hauteur : (N + 1) * taille_case pour N + 1 lignes\n",
    "    # On notera qu'initialement matImage représente une image uniforme de la couleur du fond.\n",
    "    \n",
    "    # Ne pas modifier la création de matImage\n",
    "    matImage = [[couleur_fond]* (2 * N + 1) * taille_case] * (N + 1) * taille_case\n",
    "    for i in range((N+1) * taille_case) :\n",
    "        matImage[i] =[couleur_fond]* (2 * N + 1) * taille_case\n",
    "    \n",
    "    # Complétez matImage\n",
    "    for n in range (N + 1):\n",
    "        for k in range(n+1):\n",
    "            intervale_i, intervale_j = zone_case(N, n, k, taille_case)\n",
    "            couleur = trouve_couleur(matCoefs[n][k], NOIR, BLANC)\n",
    "            for i in intervale_i :\n",
    "                for j in intervale_j :\n",
    "                    matImage[i][j] = couleur\n",
    "\n",
    "    # Affichage\n",
    "    plt.imshow(matImage)"
   ]
  },
  {
   "cell_type": "markdown",
   "id": "critical-housing",
   "metadata": {},
   "source": [
    "Testez la fonction obtenue."
   ]
  },
  {
   "cell_type": "code",
   "execution_count": 79,
   "id": "lyric-assets",
   "metadata": {},
   "outputs": [
    {
     "data": {
      "image/png": "[encoded data removed]",
      "text/plain": [
       "<Figure size 432x288 with 1 Axes>"
      ]
     },
     "metadata": {
      "needs_background": "light"
     },
     "output_type": "display_data"
    }
   ],
   "source": [
    "N = 10\n",
    "matCoefs = cree_matCoeff(N)\n",
    "rempli_matCoefs(N)\n",
    "affiche_coefs(N, matCoefs, couleur_fond, taille_case, trouve_couleur)"
   ]
  },
  {
   "cell_type": "markdown",
   "id": "outdoor-delicious",
   "metadata": {},
   "source": [
    "## 3- Et les fractales alors ?\n",
    "Nous n'en avons toujours pas vu... \n",
    "\n",
    "## 3-1- Parité\n",
    "Remplissez la fonction trouve_couleur_parite de manière à ce quelle colorie en une couleur A les coefficients pairs, en une couleur B les coefficients impairs et en une couleur C le fond de la figure avec A, B et C des couleurs bien distinctes."
   ]
  },
  {
   "cell_type": "code",
   "execution_count": 88,
   "id": "committed-stuart",
   "metadata": {},
   "outputs": [],
   "source": [
    "def trouve_couleur_parite(valeur, NOIR, BLANC) :\n",
    "    \"\"\"\n",
    "    Prérequis :\n",
    "    Valeur, NOIR et BLANC sont des entiers, BLANC > NOIR >= 0.\n",
    "    \n",
    "    Renvoie un tableau à trois éléments. Ces éléments sont des entiers compris entre \n",
    "    NOIR et BLANC inclus.\n",
    "    Ce tableau représente la couleur associée à une valeur de coefficient binomial\n",
    "    valeur dans la convention RGB décrite ci-dessus.\n",
    "    \"\"\"\n",
    "    \n",
    "    # Nous commençons la fonction par des tests afin de s'assurer que les prérequis\n",
    "    # concernant NOIR et BLANC sont respecté. Il est laissé au programmeur la possibilité\n",
    "    # d'ajouter des tests supplémentaires. \n",
    "    \n",
    "    assert(NOIR >= 0)\n",
    "    assert(BLANC > NOIR)\n",
    "    \n",
    "    \n",
    "    bleu_clair = [int(BLANC/2), int(BLANC/2), BLANC]\n",
    "    rose_clair = [BLANC, int(BLANC/2)  , BLANC]\n",
    "    \n",
    "    if valeur%2 == 0 :\n",
    "        return bleu_clair\n",
    "    else :\n",
    "        return rose_clair"
   ]
  },
  {
   "cell_type": "markdown",
   "id": "forbidden-suggestion",
   "metadata": {},
   "source": [
    "Testez cette nouvelle façon de colorier avec une valeur de N suffisamment grande (au moins 50)"
   ]
  },
  {
   "cell_type": "code",
   "execution_count": 115,
   "id": "lovely-strength",
   "metadata": {},
   "outputs": [
    {
     "data": {
      "image/png": "[encoded data removed]",
      "text/plain": [
       "<Figure size 432x288 with 1 Axes>"
      ]
     },
     "metadata": {
      "needs_background": "light"
     },
     "output_type": "display_data"
    }
   ],
   "source": [
    "N = 50\n",
    "matCoefs = cree_matCoeff(N)\n",
    "rempli_matCoefs(N)\n",
    "affiche_coefs(N, matCoefs, couleur_fond, taille_case, trouve_couleur_parite)"
   ]
  },
  {
   "cell_type": "markdown",
   "id": "brave-saver",
   "metadata": {},
   "source": [
    "#### Reconnaissez-vous une figure connue ? Ou plus précisément une fractale connue ?\n",
    "\n",
    "## 3-2- Quid des autres multiples ?\n",
    "Faites de même pour les multiples de 3 et 5"
   ]
  },
  {
   "cell_type": "code",
   "execution_count": 116,
   "id": "local-picnic",
   "metadata": {},
   "outputs": [],
   "source": [
    "def trouve_couleur_3(valeur, NOIR, BLANC) :\n",
    "    \"\"\"\n",
    "    Prérequis :\n",
    "    Valeur, NOIR et BLANC sont des entiers, BLANC > NOIR >= 0.\n",
    "    \n",
    "    Renvoie un tableau à trois éléments. Ces éléments sont des entiers compris entre \n",
    "    NOIR et BLANC inclus.\n",
    "    Ce tableau représente la couleur associée à une valeur de coefficient binomial\n",
    "    valeur dans la convention RGB décrite ci-dessus.\n",
    "    \"\"\"\n",
    "    \n",
    "    # Nous commençons la fonction par des tests afin de s'assurer que les prérequis\n",
    "    # concernant NOIR et BLANC sont respecté. Il est laissé au programmeur la possibilité\n",
    "    # d'ajouter des tests supplémentaires. \n",
    "    \n",
    "    assert(NOIR >= 0)\n",
    "    assert(BLANC > NOIR)\n",
    "    \n",
    "    vert_clair = [int(BLANC/2), BLANC, int(BLANC/2)]\n",
    "    orange = [BLANC, int(BLANC/2)  , int(BLANC/2)]\n",
    "    \n",
    "    if valeur%3 == 0 :\n",
    "        return vert_clair\n",
    "    else :\n",
    "        return orange"
   ]
  },
  {
   "cell_type": "code",
   "execution_count": 96,
   "id": "attempted-tongue",
   "metadata": {},
   "outputs": [
    {
     "data": {
      "image/png": "[encoded data removed]",
      "text/plain": [
       "<Figure size 432x288 with 1 Axes>"
      ]
     },
     "metadata": {
      "needs_background": "light"
     },
     "output_type": "display_data"
    }
   ],
   "source": [
    "affiche_coefs(N, matCoefs, couleur_fond, taille_case, trouve_couleur_3)"
   ]
  },
  {
   "cell_type": "code",
   "execution_count": 98,
   "id": "desperate-porcelain",
   "metadata": {},
   "outputs": [],
   "source": [
    "def trouve_couleur_5(valeur, NOIR, BLANC) :\n",
    "    \"\"\"\n",
    "    Prérequis :\n",
    "    Valeur, NOIR et BLANC sont des entiers, BLANC > NOIR >= 0.\n",
    "    \n",
    "    Renvoie un tableau à trois éléments. Ces éléments sont des entiers compris entre \n",
    "    NOIR et BLANC inclus.\n",
    "    Ce tableau représente la couleur associée à une valeur de coefficient binomial\n",
    "    valeur dans la convention RGB décrite ci-dessus.\n",
    "    \"\"\"\n",
    "    \n",
    "    # Nous commençons la fonction par des tests afin de s'assurer que les prérequis\n",
    "    # concernant NOIR et BLANC sont respecté. Il est laissé au programmeur la possibilité\n",
    "    # d'ajouter des tests supplémentaires. \n",
    "    \n",
    "    assert(NOIR >= 0)\n",
    "    assert(BLANC > NOIR)\n",
    "    \n",
    "    rouge = [BLANC, int(BLANC/2), int(BLANC/2)]\n",
    "    blanc = [BLANC, BLANC, BLANC]\n",
    "    \n",
    "    if valeur%5 == 0 :\n",
    "        return rouge\n",
    "    else :\n",
    "        return blanc\n",
    "    "
   ]
  },
  {
   "cell_type": "code",
   "execution_count": 99,
   "id": "latest-notion",
   "metadata": {},
   "outputs": [
    {
     "data": {
      "image/png": "[encoded data removed]",
      "text/plain": [
       "<Figure size 432x288 with 1 Axes>"
      ]
     },
     "metadata": {
      "needs_background": "light"
     },
     "output_type": "display_data"
    }
   ],
   "source": [
    "affiche_coefs(N, matCoefs, couleur_fond, taille_case, trouve_couleur_5)"
   ]
  },
  {
   "cell_type": "markdown",
   "id": "english-hardwood",
   "metadata": {},
   "source": [
    "### Ces trois critères d'affichage font apparaître des triangles de Sierpinski. Cet exercice est un exemple classique de l'émergence des fractales."
   ]
  }
 ],
 "metadata": {
  "kernelspec": {
   "display_name": "Python 3",
   "language": "python",
   "name": "python3"
  },
  "language_info": {
   "codemirror_mode": {
    "name": "ipython",
    "version": 3
   },
   "file_extension": ".py",
   "mimetype": "text/x-python",
   "name": "python",
   "nbconvert_exporter": "python",
   "pygments_lexer": "ipython3",
   "version": "3.8.5"
  }
 },
 "nbformat": 4,
 "nbformat_minor": 5
}
