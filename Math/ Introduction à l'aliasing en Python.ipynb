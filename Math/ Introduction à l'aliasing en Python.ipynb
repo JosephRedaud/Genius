{
 "cells": [
  {
   "cell_type": "markdown",
   "id": "cross-intervention",
   "metadata": {},
   "source": [
    "# Introduction à l'aliasing en Python\n",
    "\n",
    "Ce rapide TP a pour but de vous présenter très rapidement l'aliasing des tableaux Python. Il ne prétend pas être une présentation générale du sujet mais permet simplement de mieux appréhender les deux prochains exercices. \n",
    "\n",
    "Commençons par exécuter le script suivant :"
   ]
  },
  {
   "cell_type": "code",
   "execution_count": 1,
   "id": "upper-causing",
   "metadata": {},
   "outputs": [
    {
     "name": "stdout",
     "output_type": "stream",
     "text": [
      "Valeur initiale de A :  [0, 0, 0, 0, 0]\n",
      "Valeur initiale de B :  [0, 0, 0, 0, 0]\n",
      "Valeur finale de A :    [1, 0, 0, 0, 0]\n",
      "Valeur finale de B :    [1, 0, 0, 0, 0]\n"
     ]
    }
   ],
   "source": [
    "# Créons un tableau A et affichons sa valeur\n",
    "A = [0] * 5\n",
    "print(\"Valeur initiale de A : \", A)\n",
    "\n",
    "# Créons maintenant un tableau B contenant les même valeurs que le tableau A\n",
    "# et affichons sa valeur\n",
    "B = A\n",
    "print(\"Valeur initiale de B : \", B)\n",
    "\n",
    "# Modifions maintenant le tableau B\n",
    "B[0] = 1\n",
    "\n",
    "# Affichons les valeurs finales des tableaux 1 et B \n",
    "print(\"Valeur finale de A :   \", A)\n",
    "print(\"Valeur finale de B :   \", B)"
   ]
  },
  {
   "cell_type": "markdown",
   "id": "built-gender",
   "metadata": {},
   "source": [
    "Nous n'avons pas explicitement modifié le tableau A, pourtant A a été modifié de la même manière que B... En réalité nous n'avons pas copié les valeurs de A dans un nouveau tableau B. Nous avons tout simplement donné un nouveau nom au tableau que nous avions initialement appellé A. Ainsi lorsque nous l'avons modifié, la modification est resté quelque soit le nom avec lequel on l'appelait. C'est ce que l'on appelle l'aliasing. En Python cela ne concerne pas les entier ni les flottant comme le montre le script suivant :"
   ]
  },
  {
   "cell_type": "code",
   "execution_count": 3,
   "id": "australian-canberra",
   "metadata": {},
   "outputs": [
    {
     "name": "stdout",
     "output_type": "stream",
     "text": [
      "Valeur initiale de a :  0\n",
      "Valeur initiale de b :  0\n",
      "Valeur finale de a :    0\n",
      "Valeur finale de b :    1\n"
     ]
    }
   ],
   "source": [
    "# Créons un entier a et affichons sa valeur\n",
    "a = 0\n",
    "print(\"Valeur initiale de a : \", a)\n",
    "\n",
    "# Créons maintenant une variable b contenant la même valeur que a\n",
    "# et affichons sa valeur\n",
    "b = a\n",
    "print(\"Valeur initiale de b : \", b)\n",
    "\n",
    "# Modifions maintenant le tableau B\n",
    "b = 1\n",
    "\n",
    "# Affichons les valeurs finales des tableaux 1 et B \n",
    "print(\"Valeur finale de a :   \", a)\n",
    "print(\"Valeur finale de b :   \", b)"
   ]
  },
  {
   "cell_type": "markdown",
   "id": "assumed-girlfriend",
   "metadata": {},
   "source": [
    "#### L'aliasing peut être un gros problème s'il est mal connu et donc mal géré. Par exemple dans le cas suivant :"
   ]
  },
  {
   "cell_type": "code",
   "execution_count": 13,
   "id": "threatened-arkansas",
   "metadata": {},
   "outputs": [
    {
     "name": "stdout",
     "output_type": "stream",
     "text": [
      "M juste après l'initialisation :         [[0, 0, 0, 0], [0, 0, 0, 0], [0, 0, 0, 0]]\n",
      "M après la modification de la ligne 1 :  [[0, 5, 0, 0], [0, 5, 0, 0], [0, 5, 0, 0]]\n",
      "M après avoir changé la dernière ligne : [[0, 5, 0, 0], [0, 5, 0, 0], [0, 1, 2, 3]]\n"
     ]
    }
   ],
   "source": [
    "# On crée une ligne avec laquelle on initiera toutes les lignes de la matrice\n",
    "ligne_initiale = [0] * 4\n",
    "# On affecte à toutes les éléments du tableau M LA MÊME VALEUR \n",
    "# COMME C'EST UN TABLEAU, IL Y A ALIASING ET IL S'AGIT DU MÊME TABLEAU\n",
    "M = [ligne_initiale] * 3\n",
    "print(\"M juste après l'initialisation :        \", M)\n",
    "# Ainsi si on modifie la ligne 1, toutes les lignes sont modifiées\n",
    "M[1][1] = 5\n",
    "print(\"M après la modification de la ligne 1 : \", M)\n",
    "# Affectons maintenant une autre valeur à la dernière ligne, il n'y a donc \n",
    "# plus d'aliasing entre les deux premières lignes et la dernière\n",
    "M[2] = [0, 1, 2, 3]\n",
    "print(\"M après avoir changé la dernière ligne :\", M)"
   ]
  },
  {
   "cell_type": "markdown",
   "id": "periodic-legislation",
   "metadata": {},
   "source": [
    "Afin d'éviter les problèmes, on pourra utiliser la méthode copy.  \n",
    "\n",
    "Reprenons le premier exemple."
   ]
  },
  {
   "cell_type": "code",
   "execution_count": 14,
   "id": "other-island",
   "metadata": {},
   "outputs": [
    {
     "name": "stdout",
     "output_type": "stream",
     "text": [
      "Valeur initiale de A :  [0, 0, 0, 0, 0]\n",
      "Valeur initiale de B :  [0, 0, 0, 0, 0]\n",
      "Valeur finale de A :    [0, 0, 0, 0, 0]\n",
      "Valeur finale de B :    [1, 0, 0, 0, 0]\n"
     ]
    }
   ],
   "source": [
    "# Créons un tableau A et affichons sa valeur\n",
    "A = [0] * 5\n",
    "print(\"Valeur initiale de A : \", A)\n",
    "\n",
    "# Créons maintenant un tableau B contenant les même valeurs que le tableau A\n",
    "# et affichons sa valeur\n",
    "B = A.copy()\n",
    "print(\"Valeur initiale de B : \", B)\n",
    "\n",
    "# Modifions maintenant le tableau B\n",
    "B[0] = 1\n",
    "\n",
    "# Affichons les valeurs finales des tableaux 1 et B \n",
    "print(\"Valeur finale de A :   \", A)\n",
    "print(\"Valeur finale de B :   \", B)"
   ]
  },
  {
   "cell_type": "markdown",
   "id": "defensive-suicide",
   "metadata": {},
   "source": [
    "#### Cette fois-ci, B et A ne désignent pas le même objet, lors de l'affectation de la valeur de B, un nouveau tableau a été créé dans lequel on a copié les valeurs présentes dans le tableau A.\n",
    "La présentation de l'aliasing ne concerne que les listes du  langage Python."
   ]
  }
 ],
 "metadata": {
  "kernelspec": {
   "display_name": "Python 3",
   "language": "python",
   "name": "python3"
  },
  "language_info": {
   "codemirror_mode": {
    "name": "ipython",
    "version": 3
   },
   "file_extension": ".py",
   "mimetype": "text/x-python",
   "name": "python",
   "nbconvert_exporter": "python",
   "pygments_lexer": "ipython3",
   "version": "3.8.5"
  }
 },
 "nbformat": 4,
 "nbformat_minor": 5
}
