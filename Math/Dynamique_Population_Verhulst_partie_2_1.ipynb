{
 "cells": [
  {
   "cell_type": "markdown",
   "metadata": {},
   "source": [
    "# <span style = \"color :  #ca6f1e \">Activité Python : Dynamique des populations - Modèle de Verhulst, Partie 2.1 </span>\n",
    "## Apparition des $2^n$-cycles "
   ]
  },
  {
   "cell_type": "markdown",
   "metadata": {},
   "source": [
    "Bienvenue dans cette deuxième partie du modèle de Verhulst ! Si tu n'as pas réalisé la première partie du module, je te conseille vivement de commencer par cela avant de te lancer dans cette partie. \n",
    "Cet outil va te permettre d'exécuter du code Python facilement, à travers ce que j'ai déjà codé. \n",
    " \n",
    "Tu verras que beaucoup de commandes et lignes de codes sont très avancées. Mais ne t'inquiète pas, l'objectif n'est pas que tu comprennes tout le code mais plutôt que tu découvres la puissance de l'informatique pour ce genre de calculs et pour l'intuition qu'elle peut t'apporter, mais aussi ses limites. Tu auras donc à ta disposition un outil pour modifier les paramètres des simulations et essayer de comprendre l'influence des paramètres sur l'évolution. Bonne découverte !\n",
    "\n",
    "<b>Remarque</b> : au début, appuie sur Cell->Run All pour tout lancer. Pour activer une cellule de code particulière (comme après une modification), clique dessus et appuie sur Cells->Run Cells, ou Shift+Enter ;)"
   ]
  },
  {
   "cell_type": "code",
   "execution_count": null,
   "metadata": {
    "scrolled": true
   },
   "outputs": [],
   "source": [
    "import os\n",
    "import sys\n",
    "import random as rd\n",
    "import math\n",
    "import numpy as np\n",
    "import skimage.io\n",
    "import matplotlib\n",
    "import matplotlib.pyplot as plt\n",
    "\n",
    "from bokeh.io import show, output_notebook\n",
    "from bokeh.plotting import figure\n",
    "from bokeh.layouts import column, row\n",
    "from ipywidgets import interact, interactive, fixed, interact_manual\n",
    "import ipywidgets as widgets\n",
    "from bokeh.plotting import ColumnDataSource, output_file, show\n",
    "\n",
    "output_notebook(hide_banner=True)"
   ]
  },
  {
   "cell_type": "markdown",
   "metadata": {},
   "source": [
    "### $\\underline{\\text{Que se passe-t-il après $\\mu = 3$ ?}}$"
   ]
  },
  {
   "cell_type": "markdown",
   "metadata": {},
   "source": [
    "Je te propose de continuer à visualiser le comportement de la suite, lorsque $\\mu$ se rapproche de 3, puis lorsqu'il dépasse cette limite fatidique !"
   ]
  },
  {
   "cell_type": "code",
   "execution_count": 4,
   "metadata": {
    "tags": [
     "hide-input"
    ]
   },
   "outputs": [],
   "source": [
    "#fonction f_µ\n",
    "def f_mu(mu):\n",
    "    return lambda x:mu*x*(1-x)\n",
    "\n",
    "def calcul_suivant(mu,x, fig):\n",
    "    f=f_mu(mu)\n",
    "    fig.x(f(x),0,color=\"green\")\n",
    "    fig.line([x,x,f(x)],[x,f(x),f(x)])\n",
    "    fig.x(f(x),0,color=\"green\")\n",
    "    return f(x)\n",
    "\n",
    "def affichage_evolution(mu,x0,nb_etapes):\n",
    "    print(\"On note :\")\n",
    "    print(\"- x0 la valeur initiale de la suite\")\n",
    "    print(\"- nb_etapes le nombre d'itérations de la suite\")\n",
    "    fig = figure(width=800, height=400, title=\"Evolution de la suite\")\n",
    "    liste=np.array(np.linspace(0,1,num=40000))\n",
    "    fig.line(liste, f_mu(mu)(liste), color='blue')\n",
    "    fig.line([0,1],[0,1], color=\"black\")\n",
    "    x=x0\n",
    "    fig.x(x,0,color=\"green\")\n",
    "    for i in range(nb_etapes):\n",
    "        x=calcul_suivant(mu, x, fig)\n",
    "    show(fig)"
   ]
  },
  {
   "cell_type": "markdown",
   "metadata": {},
   "source": [
    "### <span style = \"color :   #cb4335  \">Visualisation </span>\n",
    "Comme précédemment, ci-dessous, fais bouger les **curseurs** permettant de visualiser le comportement de la suite en fonction des trois paramètres $\\mu$, $x_0$ et le nombre d'itérations de la suite."
   ]
  },
  {
   "cell_type": "code",
   "execution_count": 3,
   "metadata": {
    "scrolled": false
   },
   "outputs": [
    {
     "data": {
      "application/vnd.jupyter.widget-view+json": {
       "model_id": "4daa9f82979e424da086ccf81779b4a6",
       "version_major": 2,
       "version_minor": 0
      },
      "text/plain": [
       "interactive(children=(FloatSlider(value=2.0, continuous_update=False, description='mu', max=3.4, step=0.05), F…"
      ]
     },
     "metadata": {},
     "output_type": "display_data"
    },
    {
     "data": {
      "text/plain": [
       "<function __main__.affichage_evolution(mu, x0, nb_etapes)>"
      ]
     },
     "execution_count": 3,
     "metadata": {},
     "output_type": "execute_result"
    }
   ],
   "source": [
    "interact(affichage_evolution, mu=widgets.FloatSlider(min=0, max=3.4, step=0.05, value=2, continuous_update=False), x0=widgets.FloatSlider(min=0, max=1, step=0.05, value=0.1, continuous_update=False), nb_etapes=widgets.IntSlider(min=0, max=200, step=5, value=40, continuous_update=False))"
   ]
  },
  {
   "cell_type": "markdown",
   "metadata": {},
   "source": [
    "Tu peux ainsi découvrir par toi-même le comportement de la suite, lorsque l'on fait varier $\\mu$, mais aussi la valeur initiale, ou le nombre d'itérations !\n",
    "\n",
    "Et une fois que tu penses avoir bien compris ce qui s'est passé lorsque l'on passé cette fameuse limite de 3, n'hésite pas à passer à la vidéo suivante, pour la suite de ce module !"
   ]
  }
 ],
 "metadata": {
  "celltoolbar": "Format de la Cellule Texte Brut",
  "kernelspec": {
   "display_name": "Python 3",
   "language": "python",
   "name": "python3"
  },
  "language_info": {
   "codemirror_mode": {
    "name": "ipython",
    "version": 3
   },
   "file_extension": ".py",
   "mimetype": "text/x-python",
   "name": "python",
   "nbconvert_exporter": "python",
   "pygments_lexer": "ipython3",
   "version": "3.7.4"
  }
 },
 "nbformat": 4,
 "nbformat_minor": 2
}
