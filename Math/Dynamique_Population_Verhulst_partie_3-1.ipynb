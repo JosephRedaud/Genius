{
 "cells": [
  {
   "cell_type": "markdown",
   "metadata": {},
   "source": [
    "$\\underline{\\text{Modèle de Verhulst, partie 3 : introduction au chaos et fractales de Liapounov}}$"
   ]
  },
  {
   "cell_type": "markdown",
   "metadata": {},
   "source": [
    "Bienvenue dans cette troisième et dernière partie du modèle de Verhulst ! Je te conseille de d'abord commencer par la vidéo ou le fichier PDF associés à cette partie, avant de te lancer dans les joies de la simulation !\n",
    "\n",
    "Cet outil va te permettre d'exécuter du code Python facilement, à travers ce que j'ai déjà codé, ou de petits exercices où tu dois toi-même coder !\n",
    "\n",
    "L'objectif est que tu découvres la puissance de l'informatique pour ce genre de calculs et pour l'intuition qu'elle peut t'apporter, mais aussi ses limites. Bonne découverte !\n",
    "\n",
    "PS : Au début, appuie sur Cell->Run All pour tout lancer. Pour activer une cellule de code particulière (comme après une modification), clique dessus et appuie sur Cells->Run Cells, ou Shift+Enter ;)"
   ]
  },
  {
   "cell_type": "code",
   "execution_count": 1,
   "metadata": {},
   "outputs": [
    {
     "data": {
      "application/javascript": [
       "\n",
       "(function(root) {\n",
       "  function now() {\n",
       "    return new Date();\n",
       "  }\n",
       "\n",
       "  var force = true;\n",
       "\n",
       "  if (typeof root._bokeh_onload_callbacks === \"undefined\" || force === true) {\n",
       "    root._bokeh_onload_callbacks = [];\n",
       "    root._bokeh_is_loading = undefined;\n",
       "  }\n",
       "\n",
       "  var JS_MIME_TYPE = 'application/javascript';\n",
       "  var HTML_MIME_TYPE = 'text/html';\n",
       "  var EXEC_MIME_TYPE = 'application/vnd.bokehjs_exec.v0+json';\n",
       "  var CLASS_NAME = 'output_bokeh rendered_html';\n",
       "\n",
       "  /**\n",
       "   * Render data to the DOM node\n",
       "   */\n",
       "  function render(props, node) {\n",
       "    var script = document.createElement(\"script\");\n",
       "    node.appendChild(script);\n",
       "  }\n",
       "\n",
       "  /**\n",
       "   * Handle when an output is cleared or removed\n",
       "   */\n",
       "  function handleClearOutput(event, handle) {\n",
       "    var cell = handle.cell;\n",
       "\n",
       "    var id = cell.output_area._bokeh_element_id;\n",
       "    var server_id = cell.output_area._bokeh_server_id;\n",
       "    // Clean up Bokeh references\n",
       "    if (id != null && id in Bokeh.index) {\n",
       "      Bokeh.index[id].model.document.clear();\n",
       "      delete Bokeh.index[id];\n",
       "    }\n",
       "\n",
       "    if (server_id !== undefined) {\n",
       "      // Clean up Bokeh references\n",
       "      var cmd = \"from bokeh.io.state import curstate; print(curstate().uuid_to_server['\" + server_id + \"'].get_sessions()[0].document.roots[0]._id)\";\n",
       "      cell.notebook.kernel.execute(cmd, {\n",
       "        iopub: {\n",
       "          output: function(msg) {\n",
       "            var id = msg.content.text.trim();\n",
       "            if (id in Bokeh.index) {\n",
       "              Bokeh.index[id].model.document.clear();\n",
       "              delete Bokeh.index[id];\n",
       "            }\n",
       "          }\n",
       "        }\n",
       "      });\n",
       "      // Destroy server and session\n",
       "      var cmd = \"import bokeh.io.notebook as ion; ion.destroy_server('\" + server_id + \"')\";\n",
       "      cell.notebook.kernel.execute(cmd);\n",
       "    }\n",
       "  }\n",
       "\n",
       "  /**\n",
       "   * Handle when a new output is added\n",
       "   */\n",
       "  function handleAddOutput(event, handle) {\n",
       "    var output_area = handle.output_area;\n",
       "    var output = handle.output;\n",
       "\n",
       "    // limit handleAddOutput to display_data with EXEC_MIME_TYPE content only\n",
       "    if ((output.output_type != \"display_data\") || (!output.data.hasOwnProperty(EXEC_MIME_TYPE))) {\n",
       "      return\n",
       "    }\n",
       "\n",
       "    var toinsert = output_area.element.find(\".\" + CLASS_NAME.split(' ')[0]);\n",
       "\n",
       "    if (output.metadata[EXEC_MIME_TYPE][\"id\"] !== undefined) {\n",
       "      toinsert[toinsert.length - 1].firstChild.textContent = output.data[JS_MIME_TYPE];\n",
       "      // store reference to embed id on output_area\n",
       "      output_area._bokeh_element_id = output.metadata[EXEC_MIME_TYPE][\"id\"];\n",
       "    }\n",
       "    if (output.metadata[EXEC_MIME_TYPE][\"server_id\"] !== undefined) {\n",
       "      var bk_div = document.createElement(\"div\");\n",
       "      bk_div.innerHTML = output.data[HTML_MIME_TYPE];\n",
       "      var script_attrs = bk_div.children[0].attributes;\n",
       "      for (var i = 0; i < script_attrs.length; i++) {\n",
       "        toinsert[toinsert.length - 1].firstChild.setAttribute(script_attrs[i].name, script_attrs[i].value);\n",
       "        toinsert[toinsert.length - 1].firstChild.textContent = bk_div.children[0].textContent\n",
       "      }\n",
       "      // store reference to server id on output_area\n",
       "      output_area._bokeh_server_id = output.metadata[EXEC_MIME_TYPE][\"server_id\"];\n",
       "    }\n",
       "  }\n",
       "\n",
       "  function register_renderer(events, OutputArea) {\n",
       "\n",
       "    function append_mime(data, metadata, element) {\n",
       "      // create a DOM node to render to\n",
       "      var toinsert = this.create_output_subarea(\n",
       "        metadata,\n",
       "        CLASS_NAME,\n",
       "        EXEC_MIME_TYPE\n",
       "      );\n",
       "      this.keyboard_manager.register_events(toinsert);\n",
       "      // Render to node\n",
       "      var props = {data: data, metadata: metadata[EXEC_MIME_TYPE]};\n",
       "      render(props, toinsert[toinsert.length - 1]);\n",
       "      element.append(toinsert);\n",
       "      return toinsert\n",
       "    }\n",
       "\n",
       "    /* Handle when an output is cleared or removed */\n",
       "    events.on('clear_output.CodeCell', handleClearOutput);\n",
       "    events.on('delete.Cell', handleClearOutput);\n",
       "\n",
       "    /* Handle when a new output is added */\n",
       "    events.on('output_added.OutputArea', handleAddOutput);\n",
       "\n",
       "    /**\n",
       "     * Register the mime type and append_mime function with output_area\n",
       "     */\n",
       "    OutputArea.prototype.register_mime_type(EXEC_MIME_TYPE, append_mime, {\n",
       "      /* Is output safe? */\n",
       "      safe: true,\n",
       "      /* Index of renderer in `output_area.display_order` */\n",
       "      index: 0\n",
       "    });\n",
       "  }\n",
       "\n",
       "  // register the mime type if in Jupyter Notebook environment and previously unregistered\n",
       "  if (root.Jupyter !== undefined) {\n",
       "    var events = require('base/js/events');\n",
       "    var OutputArea = require('notebook/js/outputarea').OutputArea;\n",
       "\n",
       "    if (OutputArea.prototype.mime_types().indexOf(EXEC_MIME_TYPE) == -1) {\n",
       "      register_renderer(events, OutputArea);\n",
       "    }\n",
       "  }\n",
       "\n",
       "  \n",
       "  if (typeof (root._bokeh_timeout) === \"undefined\" || force === true) {\n",
       "    root._bokeh_timeout = Date.now() + 5000;\n",
       "    root._bokeh_failed_load = false;\n",
       "  }\n",
       "\n",
       "  var NB_LOAD_WARNING = {'data': {'text/html':\n",
       "     \"<div style='background-color: #fdd'>\\n\"+\n",
       "     \"<p>\\n\"+\n",
       "     \"BokehJS does not appear to have successfully loaded. If loading BokehJS from CDN, this \\n\"+\n",
       "     \"may be due to a slow or bad network connection. Possible fixes:\\n\"+\n",
       "     \"</p>\\n\"+\n",
       "     \"<ul>\\n\"+\n",
       "     \"<li>re-rerun `output_notebook()` to attempt to load from CDN again, or</li>\\n\"+\n",
       "     \"<li>use INLINE resources instead, as so:</li>\\n\"+\n",
       "     \"</ul>\\n\"+\n",
       "     \"<code>\\n\"+\n",
       "     \"from bokeh.resources import INLINE\\n\"+\n",
       "     \"output_notebook(resources=INLINE)\\n\"+\n",
       "     \"</code>\\n\"+\n",
       "     \"</div>\"}};\n",
       "\n",
       "  function display_loaded() {\n",
       "    var el = document.getElementById(null);\n",
       "    if (el != null) {\n",
       "      el.textContent = \"BokehJS is loading...\";\n",
       "    }\n",
       "    if (root.Bokeh !== undefined) {\n",
       "      if (el != null) {\n",
       "        el.textContent = \"BokehJS \" + root.Bokeh.version + \" successfully loaded.\";\n",
       "      }\n",
       "    } else if (Date.now() < root._bokeh_timeout) {\n",
       "      setTimeout(display_loaded, 100)\n",
       "    }\n",
       "  }\n",
       "\n",
       "\n",
       "  function run_callbacks() {\n",
       "    try {\n",
       "      root._bokeh_onload_callbacks.forEach(function(callback) {\n",
       "        if (callback != null)\n",
       "          callback();\n",
       "      });\n",
       "    } finally {\n",
       "      delete root._bokeh_onload_callbacks\n",
       "    }\n",
       "    console.debug(\"Bokeh: all callbacks have finished\");\n",
       "  }\n",
       "\n",
       "  function load_libs(css_urls, js_urls, callback) {\n",
       "    if (css_urls == null) css_urls = [];\n",
       "    if (js_urls == null) js_urls = [];\n",
       "\n",
       "    root._bokeh_onload_callbacks.push(callback);\n",
       "    if (root._bokeh_is_loading > 0) {\n",
       "      console.debug(\"Bokeh: BokehJS is being loaded, scheduling callback at\", now());\n",
       "      return null;\n",
       "    }\n",
       "    if (js_urls == null || js_urls.length === 0) {\n",
       "      run_callbacks();\n",
       "      return null;\n",
       "    }\n",
       "    console.debug(\"Bokeh: BokehJS not loaded, scheduling load and callback at\", now());\n",
       "    root._bokeh_is_loading = css_urls.length + js_urls.length;\n",
       "\n",
       "    function on_load() {\n",
       "      root._bokeh_is_loading--;\n",
       "      if (root._bokeh_is_loading === 0) {\n",
       "        console.debug(\"Bokeh: all BokehJS libraries/stylesheets loaded\");\n",
       "        run_callbacks()\n",
       "      }\n",
       "    }\n",
       "\n",
       "    function on_error() {\n",
       "      console.error(\"failed to load \" + url);\n",
       "    }\n",
       "\n",
       "    for (var i = 0; i < css_urls.length; i++) {\n",
       "      var url = css_urls[i];\n",
       "      const element = document.createElement(\"link\");\n",
       "      element.onload = on_load;\n",
       "      element.onerror = on_error;\n",
       "      element.rel = \"stylesheet\";\n",
       "      element.type = \"text/css\";\n",
       "      element.href = url;\n",
       "      console.debug(\"Bokeh: injecting link tag for BokehJS stylesheet: \", url);\n",
       "      document.body.appendChild(element);\n",
       "    }\n",
       "\n",
       "    const hashes = {\"https://cdn.bokeh.org/bokeh/release/bokeh-2.1.1.min.js\": \"kLr4fYcqcSpbuI95brIH3vnnYCquzzSxHPU6XGQCIkQRGJwhg0StNbj1eegrHs12\", \"https://cdn.bokeh.org/bokeh/release/bokeh-widgets-2.1.1.min.js\": \"xIGPmVtaOm+z0BqfSOMn4lOR6ciex448GIKG4eE61LsAvmGj48XcMQZtKcE/UXZe\", \"https://cdn.bokeh.org/bokeh/release/bokeh-tables-2.1.1.min.js\": \"Dc9u1wF/0zApGIWoBbH77iWEHtdmkuYWG839Uzmv8y8yBLXebjO9ZnERsde5Ln/P\", \"https://cdn.bokeh.org/bokeh/release/bokeh-gl-2.1.1.min.js\": \"cT9JaBz7GiRXdENrJLZNSC6eMNF3nh3fa5fTF51Svp+ukxPdwcU5kGXGPBgDCa2j\"};\n",
       "\n",
       "    for (var i = 0; i < js_urls.length; i++) {\n",
       "      var url = js_urls[i];\n",
       "      var element = document.createElement('script');\n",
       "      element.onload = on_load;\n",
       "      element.onerror = on_error;\n",
       "      element.async = false;\n",
       "      element.src = url;\n",
       "      if (url in hashes) {\n",
       "        element.crossOrigin = \"anonymous\";\n",
       "        element.integrity = \"sha384-\" + hashes[url];\n",
       "      }\n",
       "      console.debug(\"Bokeh: injecting script tag for BokehJS library: \", url);\n",
       "      document.head.appendChild(element);\n",
       "    }\n",
       "  };\n",
       "\n",
       "  function inject_raw_css(css) {\n",
       "    const element = document.createElement(\"style\");\n",
       "    element.appendChild(document.createTextNode(css));\n",
       "    document.body.appendChild(element);\n",
       "  }\n",
       "\n",
       "  \n",
       "  var js_urls = [\"https://cdn.bokeh.org/bokeh/release/bokeh-2.1.1.min.js\", \"https://cdn.bokeh.org/bokeh/release/bokeh-widgets-2.1.1.min.js\", \"https://cdn.bokeh.org/bokeh/release/bokeh-tables-2.1.1.min.js\", \"https://cdn.bokeh.org/bokeh/release/bokeh-gl-2.1.1.min.js\"];\n",
       "  var css_urls = [];\n",
       "  \n",
       "\n",
       "  var inline_js = [\n",
       "    function(Bokeh) {\n",
       "      Bokeh.set_log_level(\"info\");\n",
       "    },\n",
       "    function(Bokeh) {\n",
       "    \n",
       "    \n",
       "    }\n",
       "  ];\n",
       "\n",
       "  function run_inline_js() {\n",
       "    \n",
       "    if (root.Bokeh !== undefined || force === true) {\n",
       "      \n",
       "    for (var i = 0; i < inline_js.length; i++) {\n",
       "      inline_js[i].call(root, root.Bokeh);\n",
       "    }\n",
       "    } else if (Date.now() < root._bokeh_timeout) {\n",
       "      setTimeout(run_inline_js, 100);\n",
       "    } else if (!root._bokeh_failed_load) {\n",
       "      console.log(\"Bokeh: BokehJS failed to load within specified timeout.\");\n",
       "      root._bokeh_failed_load = true;\n",
       "    } else if (force !== true) {\n",
       "      var cell = $(document.getElementById(null)).parents('.cell').data().cell;\n",
       "      cell.output_area.append_execute_result(NB_LOAD_WARNING)\n",
       "    }\n",
       "\n",
       "  }\n",
       "\n",
       "  if (root._bokeh_is_loading === 0) {\n",
       "    console.debug(\"Bokeh: BokehJS loaded, going straight to plotting\");\n",
       "    run_inline_js();\n",
       "  } else {\n",
       "    load_libs(css_urls, js_urls, function() {\n",
       "      console.debug(\"Bokeh: BokehJS plotting callback run at\", now());\n",
       "      run_inline_js();\n",
       "    });\n",
       "  }\n",
       "}(window));"
      ],
      "application/vnd.bokehjs_load.v0+json": "\n(function(root) {\n  function now() {\n    return new Date();\n  }\n\n  var force = true;\n\n  if (typeof root._bokeh_onload_callbacks === \"undefined\" || force === true) {\n    root._bokeh_onload_callbacks = [];\n    root._bokeh_is_loading = undefined;\n  }\n\n  \n\n  \n  if (typeof (root._bokeh_timeout) === \"undefined\" || force === true) {\n    root._bokeh_timeout = Date.now() + 5000;\n    root._bokeh_failed_load = false;\n  }\n\n  var NB_LOAD_WARNING = {'data': {'text/html':\n     \"<div style='background-color: #fdd'>\\n\"+\n     \"<p>\\n\"+\n     \"BokehJS does not appear to have successfully loaded. If loading BokehJS from CDN, this \\n\"+\n     \"may be due to a slow or bad network connection. Possible fixes:\\n\"+\n     \"</p>\\n\"+\n     \"<ul>\\n\"+\n     \"<li>re-rerun `output_notebook()` to attempt to load from CDN again, or</li>\\n\"+\n     \"<li>use INLINE resources instead, as so:</li>\\n\"+\n     \"</ul>\\n\"+\n     \"<code>\\n\"+\n     \"from bokeh.resources import INLINE\\n\"+\n     \"output_notebook(resources=INLINE)\\n\"+\n     \"</code>\\n\"+\n     \"</div>\"}};\n\n  function display_loaded() {\n    var el = document.getElementById(null);\n    if (el != null) {\n      el.textContent = \"BokehJS is loading...\";\n    }\n    if (root.Bokeh !== undefined) {\n      if (el != null) {\n        el.textContent = \"BokehJS \" + root.Bokeh.version + \" successfully loaded.\";\n      }\n    } else if (Date.now() < root._bokeh_timeout) {\n      setTimeout(display_loaded, 100)\n    }\n  }\n\n\n  function run_callbacks() {\n    try {\n      root._bokeh_onload_callbacks.forEach(function(callback) {\n        if (callback != null)\n          callback();\n      });\n    } finally {\n      delete root._bokeh_onload_callbacks\n    }\n    console.debug(\"Bokeh: all callbacks have finished\");\n  }\n\n  function load_libs(css_urls, js_urls, callback) {\n    if (css_urls == null) css_urls = [];\n    if (js_urls == null) js_urls = [];\n\n    root._bokeh_onload_callbacks.push(callback);\n    if (root._bokeh_is_loading > 0) {\n      console.debug(\"Bokeh: BokehJS is being loaded, scheduling callback at\", now());\n      return null;\n    }\n    if (js_urls == null || js_urls.length === 0) {\n      run_callbacks();\n      return null;\n    }\n    console.debug(\"Bokeh: BokehJS not loaded, scheduling load and callback at\", now());\n    root._bokeh_is_loading = css_urls.length + js_urls.length;\n\n    function on_load() {\n      root._bokeh_is_loading--;\n      if (root._bokeh_is_loading === 0) {\n        console.debug(\"Bokeh: all BokehJS libraries/stylesheets loaded\");\n        run_callbacks()\n      }\n    }\n\n    function on_error() {\n      console.error(\"failed to load \" + url);\n    }\n\n    for (var i = 0; i < css_urls.length; i++) {\n      var url = css_urls[i];\n      const element = document.createElement(\"link\");\n      element.onload = on_load;\n      element.onerror = on_error;\n      element.rel = \"stylesheet\";\n      element.type = \"text/css\";\n      element.href = url;\n      console.debug(\"Bokeh: injecting link tag for BokehJS stylesheet: \", url);\n      document.body.appendChild(element);\n    }\n\n    const hashes = {\"https://cdn.bokeh.org/bokeh/release/bokeh-2.1.1.min.js\": \"kLr4fYcqcSpbuI95brIH3vnnYCquzzSxHPU6XGQCIkQRGJwhg0StNbj1eegrHs12\", \"https://cdn.bokeh.org/bokeh/release/bokeh-widgets-2.1.1.min.js\": \"xIGPmVtaOm+z0BqfSOMn4lOR6ciex448GIKG4eE61LsAvmGj48XcMQZtKcE/UXZe\", \"https://cdn.bokeh.org/bokeh/release/bokeh-tables-2.1.1.min.js\": \"Dc9u1wF/0zApGIWoBbH77iWEHtdmkuYWG839Uzmv8y8yBLXebjO9ZnERsde5Ln/P\", \"https://cdn.bokeh.org/bokeh/release/bokeh-gl-2.1.1.min.js\": \"cT9JaBz7GiRXdENrJLZNSC6eMNF3nh3fa5fTF51Svp+ukxPdwcU5kGXGPBgDCa2j\"};\n\n    for (var i = 0; i < js_urls.length; i++) {\n      var url = js_urls[i];\n      var element = document.createElement('script');\n      element.onload = on_load;\n      element.onerror = on_error;\n      element.async = false;\n      element.src = url;\n      if (url in hashes) {\n        element.crossOrigin = \"anonymous\";\n        element.integrity = \"sha384-\" + hashes[url];\n      }\n      console.debug(\"Bokeh: injecting script tag for BokehJS library: \", url);\n      document.head.appendChild(element);\n    }\n  };\n\n  function inject_raw_css(css) {\n    const element = document.createElement(\"style\");\n    element.appendChild(document.createTextNode(css));\n    document.body.appendChild(element);\n  }\n\n  \n  var js_urls = [\"https://cdn.bokeh.org/bokeh/release/bokeh-2.1.1.min.js\", \"https://cdn.bokeh.org/bokeh/release/bokeh-widgets-2.1.1.min.js\", \"https://cdn.bokeh.org/bokeh/release/bokeh-tables-2.1.1.min.js\", \"https://cdn.bokeh.org/bokeh/release/bokeh-gl-2.1.1.min.js\"];\n  var css_urls = [];\n  \n\n  var inline_js = [\n    function(Bokeh) {\n      Bokeh.set_log_level(\"info\");\n    },\n    function(Bokeh) {\n    \n    \n    }\n  ];\n\n  function run_inline_js() {\n    \n    if (root.Bokeh !== undefined || force === true) {\n      \n    for (var i = 0; i < inline_js.length; i++) {\n      inline_js[i].call(root, root.Bokeh);\n    }\n    } else if (Date.now() < root._bokeh_timeout) {\n      setTimeout(run_inline_js, 100);\n    } else if (!root._bokeh_failed_load) {\n      console.log(\"Bokeh: BokehJS failed to load within specified timeout.\");\n      root._bokeh_failed_load = true;\n    } else if (force !== true) {\n      var cell = $(document.getElementById(null)).parents('.cell').data().cell;\n      cell.output_area.append_execute_result(NB_LOAD_WARNING)\n    }\n\n  }\n\n  if (root._bokeh_is_loading === 0) {\n    console.debug(\"Bokeh: BokehJS loaded, going straight to plotting\");\n    run_inline_js();\n  } else {\n    load_libs(css_urls, js_urls, function() {\n      console.debug(\"Bokeh: BokehJS plotting callback run at\", now());\n      run_inline_js();\n    });\n  }\n}(window));"
     },
     "metadata": {},
     "output_type": "display_data"
    }
   ],
   "source": [
    "import os\n",
    "import sys\n",
    "import random as rd\n",
    "import math\n",
    "import numpy as np\n",
    "import skimage.io\n",
    "import matplotlib\n",
    "import matplotlib.pyplot as plt\n",
    "import time\n",
    "\n",
    "from bokeh.io import show, output_notebook\n",
    "from bokeh.plotting import figure\n",
    "from bokeh.layouts import column, row\n",
    "from ipywidgets import interact, interactive, fixed, interact_manual\n",
    "import ipywidgets as widgets\n",
    "from bokeh.plotting import ColumnDataSource, output_file, show\n",
    "\n",
    "output_notebook(hide_banner=True)"
   ]
  },
  {
   "cell_type": "markdown",
   "metadata": {},
   "source": [
    "$\\underline{\\text{Tests sur la suite pour }0 \\leq \\mu \\leq 4}$"
   ]
  },
  {
   "cell_type": "code",
   "execution_count": 2,
   "metadata": {},
   "outputs": [],
   "source": [
    "#fonction f_µ\n",
    "def f_mu(mu):\n",
    "    return lambda x:mu*x*(1-x)\n",
    "\n",
    "def calcul_suivant(mu,x, fig):\n",
    "    f=f_mu(mu)\n",
    "    fig.x(f(x),0,color=\"green\")\n",
    "    fig.line([x,x,f(x)],[x,f(x),f(x)])\n",
    "    fig.x(f(x),0,color=\"green\")\n",
    "    return f(x)\n",
    "\n",
    "def affichage_evolution(mu,x0,nb_etapes):\n",
    "    print(\"On note :\")\n",
    "    print(\"- x0 la valeur initiale de la suite\")\n",
    "    print(\"- nb_etapes le nombre d'itérations de la suite\")\n",
    "    plt.close()\n",
    "    fig = figure(width=800, height=400, title=\"Evolution de la suite\")\n",
    "    liste=np.array(np.linspace(0,1,num=40000))\n",
    "    fig.line(liste, f_mu(mu)(liste), color='blue')\n",
    "    fig.line([0,1],[0,1], color=\"black\")\n",
    "    x=x0\n",
    "    fig.x(x,0,color=\"green\")\n",
    "    for i in range(nb_etapes):\n",
    "        x=calcul_suivant(mu, x, fig)\n",
    "    show(fig)"
   ]
  },
  {
   "cell_type": "code",
   "execution_count": 3,
   "metadata": {},
   "outputs": [
    {
     "data": {
      "application/vnd.jupyter.widget-view+json": {
       "model_id": "e972a0c746b44356b7476577a4da4185",
       "version_major": 2,
       "version_minor": 0
      },
      "text/plain": [
       "interactive(children=(FloatSlider(value=2.0, continuous_update=False, description='mu', max=4.0, step=0.05), F…"
      ]
     },
     "metadata": {},
     "output_type": "display_data"
    },
    {
     "data": {
      "text/plain": [
       "<function __main__.affichage_evolution(mu, x0, nb_etapes)>"
      ]
     },
     "execution_count": 3,
     "metadata": {},
     "output_type": "execute_result"
    }
   ],
   "source": [
    "interact(affichage_evolution, mu=widgets.FloatSlider(min=0, max=4, step=0.05, value=2, continuous_update=False), x0=widgets.FloatSlider(min=0, max=1, step=0.05, value=0.1, continuous_update=False), nb_etapes=widgets.IntSlider(min=0, max=200, step=5, value=40, continuous_update=False))"
   ]
  },
  {
   "cell_type": "markdown",
   "metadata": {},
   "source": [
    "Tu peux donc découvrir les itérés de la suite pour toutes les valeurs de $\\mu$ entre 0 et 4, et voir que le comportement n'est plus aussi simple que précédemment dans certains cas. On va donc s'intéresser principalement dans la suite à ce qu'il se passe en $\\mu =4$, avec l'apparition du $\\textbf{chaos}$."
   ]
  },
  {
   "cell_type": "markdown",
   "metadata": {},
   "source": [
    "$\\underline{\\text{Pour }\\mu=4\\text{ : un chaos compréhensible}}$"
   ]
  },
  {
   "cell_type": "markdown",
   "metadata": {},
   "source": [
    "On se place ici à $\\mu=4$ et on trace les 9 dernières itérations de la suite, avec leur méthode de détermination graphique. Les points verts correspondent à toutes les valeurs prises jusqu'alors par la suite, et elles semblent se répartir, pour la plupart, dans tout le segment [0,1]. \n",
    "\n",
    "Cependant, pour $x_0=0,25$ ou $x_0=0,5$, on observe que seul un nombre restreint de valeurs sont prises, faisant parti des antécédents des points fixes répulsifs de la suite. Mais en obtenant précisément cette valeur, la suite reste stationnaire."
   ]
  },
  {
   "cell_type": "code",
   "execution_count": 4,
   "metadata": {},
   "outputs": [],
   "source": [
    "liste_couleur=[(255,0,0),(255,32,0),(255,64,0),(255,96,0),(255,128,0),(255,160,0),(255,192,0),(255,224,0),(255,255,0)]\n",
    "\n",
    "f_4=f_mu(4)\n",
    "\n",
    "def calcul_suivant2(mu,x, fig):\n",
    "    f=f_mu(mu)\n",
    "    fig.x(f(x),0,color=\"green\")\n",
    "    return f(x)\n",
    "\n",
    "def affichage_etape(mu,x, fig, etape):\n",
    "    f=f_mu(mu)\n",
    "    fig.line([x,x,f(x)],[x,f(x),f(x)], color=liste_couleur[etape])\n",
    "    fig.x(f(x),0,color=\"green\")\n",
    "    return f(x)\n",
    "\n",
    "def affichage_evolution(x0,nb_etapes):\n",
    "    print(\"On note :\")\n",
    "    print(\"- x0 la valeur initiale de la suite\")\n",
    "    print(\"- nb_etapes le nombre d'itérations de la suite\")\n",
    "    fig = figure(width=800, height=400, title=\"Evolution de la suite\")\n",
    "    liste=np.array(np.linspace(0,1,num=40000))\n",
    "    fig.line(liste, f_4(liste), color='blue')\n",
    "    fig.line([0,1],[0,1], color=\"black\")\n",
    "    x=x0\n",
    "    fig.x(x,0,color=\"green\")\n",
    "    for i in range(nb_etapes-8):\n",
    "        x=calcul_suivant2(4, x, fig)\n",
    "    for i in range(nb_etapes-8,nb_etapes):\n",
    "        x=affichage_etape(4, x, fig, nb_etapes-i)\n",
    "    show(fig)"
   ]
  },
  {
   "cell_type": "code",
   "execution_count": 5,
   "metadata": {},
   "outputs": [
    {
     "data": {
      "application/vnd.jupyter.widget-view+json": {
       "model_id": "fd4e6da6d7394604b3d28a6c59db4e33",
       "version_major": 2,
       "version_minor": 0
      },
      "text/plain": [
       "interactive(children=(FloatSlider(value=0.1, continuous_update=False, description='x0', max=1.0, step=0.05), I…"
      ]
     },
     "metadata": {},
     "output_type": "display_data"
    },
    {
     "data": {
      "text/plain": [
       "<function __main__.affichage_evolution(x0, nb_etapes)>"
      ]
     },
     "execution_count": 5,
     "metadata": {},
     "output_type": "execute_result"
    }
   ],
   "source": [
    "interact(affichage_evolution, x0=widgets.FloatSlider(min=0, max=1, step=0.05, value=0.1, continuous_update=False), nb_etapes=widgets.IntSlider(min=0, max=200, step=5, value=40, continuous_update=False))"
   ]
  },
  {
   "cell_type": "markdown",
   "metadata": {},
   "source": [
    "$\\underline{Sensibilité~aux~Conditions~Initiales}$\n",
    "\n",
    "On s'intéresse à la sensibilité au Conditions Initiales (CI) pour la fonction $f_4$. Celle-ci est vérifiée car la dynamique associée à $f_4$ est chaotique. \n",
    "\n",
    "Nous allons donc considérer l'évolution des suites A, B, C et D dont les termes initiaux sont très proches : $B_0=A_0+10^{-4}$, $C_0=A_0+10^{-7}$ et $D_0=A_0+10^{-10}$. Malgré cette proximité, toutes ces suites finissent par avoir des comportements très différents : la vitesse de \"séparation\" des suites varie en fonction de la valeur initiale de A, notée a. \n",
    "\n",
    "Deux graphiques permettent d'observer cette séparation : le tracé des valeurs succesives pour les 4 suites, et l'évolution de B, C et D par rapport à A au cours des itérations."
   ]
  },
  {
   "cell_type": "code",
   "execution_count": 6,
   "metadata": {},
   "outputs": [],
   "source": [
    "#Sensibilité aux valeurs initiales\n",
    "def sensibilite_CI(a, n_max):\n",
    "    print(\"On note :\")\n",
    "    print(\"- a la valeur initiale de la suite\")\n",
    "    print(\"- n_max le nombre maximal d'itérations\")\n",
    "    liste_a=[a]\n",
    "    b=a+0.0001\n",
    "    liste_b=[b]\n",
    "    c=a+0.00000001\n",
    "    liste_c=[c]\n",
    "    d=a+0.00000000001\n",
    "    liste_d=[d]\n",
    "    liste_etape=[0]\n",
    "    for i in range(1,n_max):\n",
    "        liste_etape.append(i)\n",
    "        liste_a.append(f_4(liste_a[-1]))\n",
    "        liste_b.append(f_4(liste_b[-1]))\n",
    "        liste_c.append(f_4(liste_c[-1]))\n",
    "        liste_d.append(f_4(liste_d[-1]))\n",
    "\n",
    "    fig = figure(width=470, height=300, title=\"Sensibilité aux CI : évolution des suites de premiers termes proches\")\n",
    "    fig.line(liste_etape, liste_a, legend_label=\"A\", color='black')\n",
    "    fig.line(liste_etape, liste_b, legend_label=\"B\", color='blue')\n",
    "    fig.line(liste_etape, liste_c, legend_label=\"C\", color='red')\n",
    "    fig.line(liste_etape, liste_d, legend_label=\"D\", color='green')\n",
    "    fig.legend.location = \"top_right\"       \n",
    "\n",
    "    liste_b_diff=abs(np.array(liste_b)-np.array(liste_a))\n",
    "    liste_c_diff=abs(np.array(liste_c)-np.array(liste_a))\n",
    "    liste_d_diff=abs(np.array(liste_d)-np.array(liste_a))\n",
    "    fig1 = figure(width=470, height=300, title=\"Sensibilité aux CI : évolution des écarts à A\")\n",
    "    fig1.line(liste_etape, liste_b_diff, legend_label=\"|B-A|\", color='blue')\n",
    "    fig1.line(liste_etape, liste_c_diff, legend_label=\"|C-A|\", color='red')\n",
    "    fig1.line(liste_etape, liste_d_diff, legend_label=\"|D-A|\", color='green')\n",
    "    fig1.legend.location = \"top_left\"       \n",
    "    show(row(fig, fig1))"
   ]
  },
  {
   "cell_type": "code",
   "execution_count": 7,
   "metadata": {},
   "outputs": [
    {
     "data": {
      "application/vnd.jupyter.widget-view+json": {
       "model_id": "dbf281af0062410087b085d390951557",
       "version_major": 2,
       "version_minor": 0
      },
      "text/plain": [
       "interactive(children=(FloatSlider(value=0.1, continuous_update=False, description='a', max=1.0), IntSlider(val…"
      ]
     },
     "metadata": {},
     "output_type": "display_data"
    },
    {
     "data": {
      "text/plain": [
       "<function __main__.sensibilite_CI(a, n_max)>"
      ]
     },
     "execution_count": 7,
     "metadata": {},
     "output_type": "execute_result"
    }
   ],
   "source": [
    "interact(sensibilite_CI, a=widgets.FloatSlider(min=0, max=1, step=0.1, value=0.1, continuous_update=False), n_max=widgets.IntSlider(min=0, max=200, step=20, value=40, continuous_update=False))"
   ]
  },
  {
   "cell_type": "markdown",
   "metadata": {},
   "source": [
    "Pour en avoir une vision plus classique, tu peux observer ici l'évolution de deux pendules doubles, en plaçant leurs masses à des positions originales très proches."
   ]
  },
  {
   "cell_type": "code",
   "execution_count": 8,
   "metadata": {},
   "outputs": [],
   "source": [
    "def pendule_double(m1, m2, l1, l2, O1, O2, v1, v2, nb_etapes, T_max):\n",
    "    theta1=[O1]\n",
    "    theta2=[O2]\n",
    "    vit1=[v1]\n",
    "    vit2=[v2]\n",
    "    T=T_max/nb_etapes\n",
    "    for t in range(nb_etapes):\n",
    "        theta1.append((theta1[-1]+T*vit1[-1])%(2*np.pi))\n",
    "        theta2.append((theta2[-1]+T*vit2[-1])%(2*np.pi))\n",
    "        vit1.append(vit1[-1]+T*(-m2*l1*np.sin(theta1[-2]-theta2[-2])*np.cos(theta1[-2]-theta2[-2])*vit1[-1]**2-m2*l2*np.sin(theta1[-2]-theta2[-2])*vit2[-1]**2-m1*9.81*np.sin(theta1[-2])-m2*9.81*np.sin(theta1[-2]-theta2[-2])*np.cos(theta2[-2]))/(m1*l1+m2*l1*(np.sin(theta1[-2]-theta2[-2]))**2))\n",
    "        #print(np.sin(theta1[-2]-theta2[-2]), theta1[-2]-theta2[-2])\n",
    "        vit2.append(vit2[-1]+T*((m1+m2)*l1*np.sin(theta1[-2]-theta2[-2])*vit1[-2]**2+m2*l2*np.sin(theta1[-2]-theta2[-2])*np.cos(theta1[-2]-theta2[-2])*vit2[-1]**2+(m1+m2)*9.81*np.sin(theta1[-2]-theta2[-2])*np.cos(theta1[-2]))/(m1*l2+m2*l2*(np.sin(theta1[-2]-theta2[-2]))**2))\n",
    "    return theta1, theta2\n",
    "\n",
    "def pendules_proches(m1, m2, l1, l2, O1, O2, v1, v2, eO1, eO2, ev1, ev2, nb_etapes, T_max):\n",
    "    theta11, theta12 = pendule_double(m1, m2, l1, l2, O1, O2, v1, v2, nb_etapes, T_max)\n",
    "    theta21, theta22 = pendule_double(m1, m2, l1, l2, O1+eO1, O2+eO2, v1+ev1, v2+ev2, nb_etapes, T_max)\n",
    "    coord1=np.zeros((len(theta11), 2, 2), dtype=float)\n",
    "    coord2=np.zeros((len(theta21), 2, 2), dtype=float)\n",
    "    for i in range(len(theta11)):\n",
    "        coord1[i,0,0]=l1*np.sin(theta11[i])\n",
    "        coord1[i,0,1]=-l1*np.cos(theta11[i])\n",
    "        coord1[i,1,0]=l1*np.sin(theta11[i])+l2*np.sin(theta12[i])\n",
    "        coord1[i,1,1]=-l1*np.cos(theta11[i])-l2*np.cos(theta12[i])\n",
    "        coord2[i,0,0]=l1*np.sin(theta21[i])\n",
    "        coord2[i,0,1]=-l1*np.cos(theta21[i])\n",
    "        coord2[i,1,0]=l1*np.sin(theta21[i])+l2*np.sin(theta22[i])\n",
    "        coord2[i,1,1]=-l1*np.cos(theta21[i])-l2*np.cos(theta22[i])\n",
    "    #print(coord1)\n",
    "    return coord1, coord2\n"
   ]
  },
  {
   "cell_type": "code",
   "execution_count": 18,
   "metadata": {},
   "outputs": [
    {
     "name": "stdout",
     "output_type": "stream",
     "text": [
      "m : masse, l : longueur, O : angle initial par rapport à la verticale basse, v: vitesse initiale, eO : écart en angle \n",
      "initial, ev : écart en vitesse initial, nb_etapes : nombre de discrétisations, T_max : temps d'évolution\n"
     ]
    },
    {
     "data": {
      "application/vnd.jupyter.widget-view+json": {
       "model_id": "b00a015725ca46c599b2f0b502609cb9",
       "version_major": 2,
       "version_minor": 0
      },
      "text/plain": [
       "interactive(children=(FloatSlider(value=1.0, continuous_update=False, description='m1', max=2.0, step=0.2), Fl…"
      ]
     },
     "metadata": {},
     "output_type": "display_data"
    }
   ],
   "source": [
    "print(\"m : masse, l : longueur, O : angle initial par rapport à la verticale basse, v: vitesse initiale, eO : écart en angle \\ninitial, ev : écart en vitesse initial, nb_etapes : nombre de discrétisations, T_max : temps d'évolution\")\n",
    "fonction_coord_pendule_double=interactive(pendules_proches, m1=widgets.FloatSlider(min=0, max=2, step=0.2, value=1, continuous_update=False), m2=widgets.FloatSlider(min=0, max=2, step=0.2, value=1, continuous_update=False), l1=widgets.FloatSlider(min=0, max=1, step=0.2, value=0.4, continuous_update=False), l2=widgets.FloatSlider(min=0, max=1, step=0.2, value=0.4, continuous_update=False), O1=widgets.FloatSlider(min=0, max=2*np.pi, step=np.pi/8, value=0, continuous_update=False), O2=widgets.FloatSlider(min=0, max=2*np.pi, step=np.pi/8, value=0, continuous_update=False), v1=widgets.FloatSlider(min=0, max=1, step=0.1, value=0, continuous_update=False), v2=widgets.FloatSlider(min=0, max=1, step=0.1, value=0, continuous_update=False), eO1=widgets.FloatSlider(min=0, max=0.1, step=0.01, value=0.01, continuous_update=False), eO2=widgets.FloatSlider(min=0, max=0.1, step=0.01, value=0.01, continuous_update=False), ev1=widgets.FloatSlider(min=0, max=0.1, step=0.01, value=0.0, continuous_update=False), ev2=widgets.FloatSlider(min=0, max=0.1, step=0.01, value=0.0, continuous_update=False), nb_etapes=widgets.IntSlider(min=10, max=1000, step=10, value=50, continuous_update=False), T_max=widgets.FloatSlider(min=1, max=20, step=0.5, value=5, continuous_update=False))\n",
    "display(fonction_coord_pendule_double)"
   ]
  },
  {
   "cell_type": "markdown",
   "metadata": {},
   "source": [
    "$\\color{red}{\\text{Après chaque changement de paramètre, il faut revalider les deux cellules suivantes (avec Shift+Enter)}}$"
   ]
  },
  {
   "cell_type": "code",
   "execution_count": 23,
   "metadata": {},
   "outputs": [],
   "source": [
    "coord1, coord2= fonction_coord_pendule_double.result\n",
    "\n",
    "def affichage_pendule_double(t):\n",
    "    fig = figure(width=470, height=300, x_range=[-2,2], y_range=[-2,2], title=\"Sensibilité aux CI : évolution des suites de premiers termes proches\")\n",
    "    fig.line([0,coord1[t,0,0], coord1[t,1,0]], [0,coord1[t,0,1],coord1[t,1,1]], color='black')\n",
    "    fig.line([0,coord2[t,0,0], coord2[t,1,0]], [0,coord2[t,0,1],coord2[t,1,1]], color='blue')\n",
    "    show(fig)"
   ]
  },
  {
   "cell_type": "code",
   "execution_count": 24,
   "metadata": {},
   "outputs": [
    {
     "data": {
      "application/vnd.jupyter.widget-view+json": {
       "model_id": "d2d7cc3b573d4f88a9c572a1d83c9f8c",
       "version_major": 2,
       "version_minor": 0
      },
      "text/plain": [
       "interactive(children=(IntSlider(value=0, description='t', max=1000), Output()), _dom_classes=('widget-interact…"
      ]
     },
     "metadata": {},
     "output_type": "display_data"
    },
    {
     "data": {
      "text/plain": [
       "<function __main__.affichage_pendule_double(t)>"
      ]
     },
     "execution_count": 24,
     "metadata": {},
     "output_type": "execute_result"
    }
   ],
   "source": [
    "interact(affichage_pendule_double, t=widgets.IntSlider(min=0, max=1000, step=1, value=0, continuous_update=True))"
   ]
  },
  {
   "cell_type": "markdown",
   "metadata": {},
   "source": [
    "$\\underline{\\text{Sensibilité et approximations numériques, un bien mauvais mélange...}}$"
   ]
  },
  {
   "cell_type": "markdown",
   "metadata": {},
   "source": [
    "Cette sensibilité aux conditions initiales rend très problématique le calcul itératif des termes de la suite logistique pour $\\mu=4$, à cause d'un autre phénomène : l'espace de stockage d'un ordinateur est fini, et la plupart des nombres ne peuvent être stockés exactement par l'ordinateur, ce qui le conduit à en prendre des approximations.\n",
    "\n",
    "Or, ce phénomène d'approximation, couplé à la sensibilité, mène à des comportements numériques différents des résultats exacts.\n",
    "\n",
    "Pour illustrer cette problématique, considérons : $u_0=\\sin^2(\\frac{\\pi}{384})$.\n",
    "\n",
    "Or $384=2^7\\times 3$ donc $u_7=\\sin^2(2^7\\frac{\\pi}{384})=\\sin^2(\\frac{\\pi}{3})=\\frac{3}{4}$.\n",
    "\n",
    "Or, $\\frac{3}{4}$ est un point fixe de $f_4$, donc la suite $(u_n)_{n\\in \\mathbb{N}}$ est stationnaire à partir du rang 7. Mais ce n'est pas le comportement que nous allons observer numériquement..."
   ]
  },
  {
   "cell_type": "code",
   "execution_count": 12,
   "metadata": {},
   "outputs": [],
   "source": [
    "def pb_num_sensibilite(nb_etape):\n",
    "    print(\"On note :\")\n",
    "    print(\"- nb_etape le nombre d'itérations de la suite considéré, avec valeur initiale de u0\")\n",
    "    liste_valeurs=[np.sin(np.pi/384)**2]\n",
    "    for i in range(nb_etape):\n",
    "        liste_valeurs.append(f_4(liste_valeurs[-1]))\n",
    "    fig = figure(width=470, height=300, title=\"Evolution de la suite, plus ou moins stationnaire\")\n",
    "    fig.line([0,nb_etape], [3/4,3/4], legend_label=\"Limite attendue\", color='black')\n",
    "    fig.line(list(range(nb_etape+1)), liste_valeurs, legend_label=\"Evolution de la suite\", color='blue')\n",
    "    fig.legend.location = \"bottom_right\" \n",
    "    show(fig)"
   ]
  },
  {
   "cell_type": "code",
   "execution_count": 13,
   "metadata": {},
   "outputs": [
    {
     "data": {
      "application/vnd.jupyter.widget-view+json": {
       "model_id": "72170387e2ec4f6eb2beeef682035b51",
       "version_major": 2,
       "version_minor": 0
      },
      "text/plain": [
       "interactive(children=(IntSlider(value=50, continuous_update=False, description='nb_etape', min=1), Output()), …"
      ]
     },
     "metadata": {},
     "output_type": "display_data"
    },
    {
     "data": {
      "text/plain": [
       "<function __main__.pb_num_sensibilite(nb_etape)>"
      ]
     },
     "execution_count": 13,
     "metadata": {},
     "output_type": "execute_result"
    }
   ],
   "source": [
    "interact(pb_num_sensibilite, nb_etape=widgets.IntSlider(min=1, max=100, step=1, value=50, continuous_update=False))"
   ]
  },
  {
   "cell_type": "markdown",
   "metadata": {},
   "source": [
    "Ainsi, nous observons qu'à partir d'une certaine valeur, les erreurs de calcul et la sensibilité mènent une suite, stationnaire en théorie, à diverger !"
   ]
  },
  {
   "cell_type": "markdown",
   "metadata": {},
   "source": [
    "**Après avoir pu observer et simuler par toi-même les concepts introduits dans la première vidéo, n'hésite pas à visionner la deuxième, qui te permettra de découvrir le nombre de Champernowne (qui justifie la dynamique chaotique de $f_4$) et d'avoir une idée de ce qu'il se passe lorsque $\\mu\\in]\\mu_{\\infty},4[$.**"
   ]
  },
  {
   "cell_type": "code",
   "execution_count": null,
   "metadata": {},
   "outputs": [],
   "source": []
  }
 ],
 "metadata": {
  "kernelspec": {
   "display_name": "Python 3",
   "language": "python",
   "name": "python3"
  },
  "language_info": {
   "codemirror_mode": {
    "name": "ipython",
    "version": 3
   },
   "file_extension": ".py",
   "mimetype": "text/x-python",
   "name": "python",
   "nbconvert_exporter": "python",
   "pygments_lexer": "ipython3",
   "version": "3.8.3"
  }
 },
 "nbformat": 4,
 "nbformat_minor": 2
}
