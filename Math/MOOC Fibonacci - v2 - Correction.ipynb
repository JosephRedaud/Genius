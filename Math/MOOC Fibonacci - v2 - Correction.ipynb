{
 "cells": [
  {
   "cell_type": "markdown",
   "metadata": {},
   "source": [
    "## Exercices Python Mooc \"Les lapins de Fibonacci\" - Une solution possible\n",
    "\n",
    "Ci-dessous tu trouveras des solutions aux exercices proposés, mais sache qu'il y a plusieurs réponses possibles."
   ]
  },
  {
   "cell_type": "markdown",
   "metadata": {},
   "source": [
    "# Vidéo 2 : Calcul du terme général"
   ]
  },
  {
   "cell_type": "markdown",
   "metadata": {},
   "source": [
    "## Exercice 1 : Algorithme à l'aide de la relation de récurrence\n",
    "Ici, on te propose deux méthodes différentes."
   ]
  },
  {
   "cell_type": "code",
   "execution_count": 15,
   "metadata": {},
   "outputs": [],
   "source": [
    "## Méthode 1 : On ne stocke pas tous les résultats de la suite, on ne garde en mémoire que les 2 derniers calculés\n",
    "def Fibonacci_1(n): # n correspond à la n-ième génération dont on veut savoir le nombres de couples de lapins\n",
    "    F0 = 0 # F0 corespond à l'initialisation, il n'y a pas de couples de lapin\n",
    "    F1 = 1 # F1 correspond au premier mois, il y a au bout du premier mois 1 couple de lapins\n",
    "    \n",
    "    for k in range(2,n+1) :\n",
    "        newF = F0 + F1 # On calcule le nombre de couples de lapins à la prochaine génération\n",
    "        F0 = F1  # F0 correspond maintenant au terme k-2\n",
    "        F1 = newF \n",
    "        # F0 et F1 correspondent maintenant respectivement aux termes de rang k-2 et k-1,\n",
    "        #permettant de calculer le terme de rang k à la prochaine itération \n",
    "        \n",
    "    print(\"A la \",n,\"-ième génération, il y a\", newF, \"couples de lapins.\")\n",
    "\n",
    "\n",
    "##Méthode 2 : pour ceux qui connaissent l'utilisation des listes en Python\n",
    "\n",
    "def Fibonacci_1bis(n): # n correspond à la n-ième génération dont on veut savoir le nombres de couples de lapins\n",
    "    F0 = 0 # F0 corespond à l'initialisation, il n'y a pas de couples de lapin\n",
    "    F1 = 1 # F1 correspond au premier mois, il y a au bout du premier mois 1 couple de lapins\n",
    "    \n",
    "    # On crée une liste F où on va stocker tous les résultats de la suite de Fibonacci jusqu'à la n-ième génération\n",
    "    # Ainsi, F[n] correspondra au nombre de couples de lapins de la n-ième génération.\n",
    "    F = [0]*(n+1)  # On crée une liste F de zéros que l'on modifiera par la suite\n",
    "    F[0] = F0\n",
    "    F[1] = F1\n",
    "    \n",
    "    for k in range(2,n+1) : # Cela signifie que k va de 2 à n+1 non inclus (ie. de 2 à n inclus)\n",
    "        F[k] = F[k-1] + F[k-2]   # Relation de récurrence de la suite de Fibonacci\n",
    "        \n",
    "    print(\"A la \",n,\"-ième génération, il y a\", F[n], \"couples de lapins.\")\n",
    "        \n",
    "        \n",
    "        \n",
    "        \n",
    "    "
   ]
  },
  {
   "cell_type": "code",
   "execution_count": 16,
   "metadata": {},
   "outputs": [
    {
     "name": "stdout",
     "output_type": "stream",
     "text": [
      "A la  20 -ième génération, il y a 6765 couples de lapins.\n",
      "A la  20 -ième génération, il y a 6765 couples de lapins.\n"
     ]
    }
   ],
   "source": [
    "#Vérifie ici que ton programme fonctionne bien (n'oublie pas d'exécuter ton programme au préalable)\n",
    "Fibonacci_1(20)\n",
    "Fibonacci_1bis(20)"
   ]
  },
  {
   "cell_type": "markdown",
   "metadata": {},
   "source": [
    "### Remarque : \n",
    "Les deux méthodes sont correctes et donnent d'ailleurs les mêmes résultats si on prend le même n. En revanche, la méthode 1 prend moins de mémoire car elle ne stocke que les deux derniers résultats, tandis que la méthode 2 stocke tous les résultats de 0 à n dans une liste. Pour des n \"petits\", cela n'a pas d'importance, mais dans d'autres contextes, avec des n \"plus grands\", il faudra faire attention aux problèmes de stockage des données."
   ]
  },
  {
   "cell_type": "markdown",
   "metadata": {},
   "source": [
    "## Exercice 2 : Algorithme à l'aide de la formule explicite\n"
   ]
  },
  {
   "cell_type": "code",
   "execution_count": 19,
   "metadata": {},
   "outputs": [
    {
     "name": "stdout",
     "output_type": "stream",
     "text": [
      "A la  20 -ième génération, il y a 6765.000000000005 couples de lapins.\n"
     ]
    }
   ],
   "source": [
    "from math import *\n",
    "\n",
    "n = 20\n",
    "\n",
    "phi = (1+sqrt(5)) / 2\n",
    "phiprime = (1-sqrt(5)) / 2\n",
    "\n",
    "Fn = ((phi**n) - (phiprime**n)) / sqrt(5)\n",
    "\n",
    "print(\"A la \",n,\"-ième génération, il y a\", Fn, \"couples de lapins.\")"
   ]
  },
  {
   "cell_type": "markdown",
   "metadata": {},
   "source": [
    "Tester le programme avec plusieurs valeurs de n puis le comparer avec celui de l'exercice 1}$"
   ]
  },
  {
   "cell_type": "code",
   "execution_count": null,
   "metadata": {},
   "outputs": [],
   "source": [
    "# Test ci-dessous différentes valeurs"
   ]
  },
  {
   "cell_type": "markdown",
   "metadata": {},
   "source": [
    "### Remarque\n",
    "On remarque que l'algorithme précédent ne donne pas tout à fait la valeur exacte de Fn. En effet, pour faire le calcul de $\\phi^n$ et $\\phi'^n$, la machine doit faire de nombreuses approximations car elle ne peut pas mémoriser un nombre infini de chiffres après la virgule. Ainsi, le résultat final est en fait une valeur approchée mais elle reste néanmoins très précise à l'échelle où on travaille. Lorsqu'on écrit un programme, il faut donc garder en tête que la valeur affichée peut être une valeur approximée si le calcul demandé est \"compliqué\". "
   ]
  }
 ],
 "metadata": {
  "kernelspec": {
   "display_name": "Python 3",
   "language": "python",
   "name": "python3"
  },
  "language_info": {
   "codemirror_mode": {
    "name": "ipython",
    "version": 3
   },
   "file_extension": ".py",
   "mimetype": "text/x-python",
   "name": "python",
   "nbconvert_exporter": "python",
   "pygments_lexer": "ipython3",
   "version": "3.7.4"
  }
 },
 "nbformat": 4,
 "nbformat_minor": 2
}
