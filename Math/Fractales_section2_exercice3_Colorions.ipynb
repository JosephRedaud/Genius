{
 "cells": [
  {
   "cell_type": "markdown",
   "id": "developed-church",
   "metadata": {},
   "source": [
    "# Exercice 3 : Colorions !\n",
    "\n",
    "L’objectif de cet exercice est de vous faire manipuler le coloriage de données, vous devrez notamment observer les tracés que vous aurez produit.\n",
    "\n",
    "## Attention ! La première cellule de ce notebook doit être exécutée en premier, cependant merci de ne pas la lire, vous serez amené à en deviner le contenu !\n",
    "\n"
   ]
  },
  {
   "cell_type": "code",
   "execution_count": 6,
   "id": "4b046d9e",
   "metadata": {},
   "outputs": [],
   "source": [
    "# Exécuter sans regarder attentivement\n",
    "\n",
    "nb_bits_couleurs = 8 # nombre de bits sur lequel chaque composante RVB est codée\n",
    "nb_niveaux_gris = 2**nb_bits_couleurs # Il en découle le nombre de niveaux accessible pour chaque couleur\n",
    "NOIR = 0 # Niveaux qui représente une luminosité nulle\n",
    "BLANC = nb_niveaux_gris - 1 # Niveux qui représente une luminosité maximale \n",
    "\n",
    "def generateur_universel(Lniveaux, Lgris):\n",
    "    \"\"\"\n",
    "    -----------------------------Préconditions--------------------------------\n",
    "  \n",
    "    Lniveau et Lgris sont tous deux des tableaux d'entiers de même longueur \n",
    "    n > 0.\n",
    "    Lgris ne peut contenir que des entiers de [0; nb_niveaux_gris[.                       \n",
    "    Lniveaux est strictement croissant de premier terme 0 et de dernier terme\n",
    "    nb_niveaux_gris - 1. Par conséquent n <= nb_niveaux_gris.\n",
    "\n",
    "    Si ces conditions ne sont pas respectées, le comportement de la fonction \n",
    "    n'est pas spécifié et une exeption peut être levée.\n",
    "    \n",
    "    --------------------------------Retour------------------------------------\n",
    "    \n",
    "    Retour :\n",
    " \n",
    "    generateur_universel(Lniveaux, Lgris) est un tableau d'entier de \n",
    "    [NOIR;BLANC[ de longueur nb_niveaux_gris\n",
    "\n",
    "    pour tout i de [0; n[ :\n",
    "    generateur_universel(Lniveaux, Lgris)[Lniveau[i]] = Lgris[i]\n",
    "\n",
    "    pour tout i de [0, n-1[ :\n",
    "    les valeurs de position k dans ]Lniveaux[i], Lniveaux[i + 1][ sont des \n",
    "    troncatures à l'unité des interpolations linéaires entre Lgris[i] et \n",
    "    Lgris[i + 1] \n",
    "    \n",
    "    -------------------------------Exemples------------------------------------\n",
    "    \n",
    "    On considère ici que nb_bits_couleurs = 8\n",
    "\n",
    "    Si Lniveaux = [0, 5, 255] et Lgris = [0, 10, 10]\n",
    "    generateur_universel(Lniveaux, Lgris) = [0, 2, 4, 6, 8, 10, 10, 10 .... 10]\n",
    "    On a ici interpolé pour les éléments compris entre 0 et 5 les valeurs \n",
    "    (tronquées à l'unité) de  la fonction affine qui vaut 0 en 0 et 10 en 5.\n",
    "    Même chose pour les éléments d'indices entre 10 et 255 avec la fonction \n",
    "    constante de valeur 10.\n",
    "    \n",
    "    Si Lniveaux = [0, 255] et Lgris = [255, 254]\n",
    "    generateur_universel(Lniveaux, Lgris) = [255, 254, 254 .... 254]\n",
    "    Ici l'interpolation est celle de la fonction affine qui vaut 255 en 0 et \n",
    "    254 en 255. Comme nous tronquons à l'unité, les 255 dernières valeurs valent\n",
    "    254.\n",
    "\n",
    "    Si Lniveaux = [0, 4, 5, 255] et Lgris = [30, 50, 200, 1]\n",
    "    generateur_universel(Lniveaux, Lgris) \n",
    "                           = [30, 35, 40, 45, 50, 200, 199, 198, ... 3, 2, 1, 0]\n",
    "    Ici on a créé une discontinuité entre les indices 4 et 5.\n",
    "    \n",
    "    ----------------------------------------------------------------------------\n",
    "    \"\"\"\n",
    "    \n",
    "    n = len(Lniveaux)\n",
    "    \n",
    "    # On vérifie que Lniveaux et Lgris correspondent bien aux spécifications.\n",
    "    # Si ce n'est pas le cas, on lève une exeption.\n",
    "    assert(n > 0)\n",
    "    assert(n <= nb_niveaux_gris)\n",
    "    assert(n == len(Lgris)) \n",
    "    assert(Lniveaux[0] == 0)\n",
    "    assert(Lniveaux[n - 1] == nb_niveaux_gris - 1)\n",
    "    assert(Lgris[0] >= NOIR)\n",
    "    assert(Lgris[0] <= BLANC)\n",
    "\n",
    "    # On crée le tableau que l'on retournera à la fin.\n",
    "    palette = [0] * nb_niveaux_gris\n",
    "    \n",
    "    for i in range(n - 1) :\n",
    "        \n",
    "        a = int(Lniveaux[i]) # borne inf abscices\n",
    "        b = int(Lniveaux[i + 1]) # borne sup abscices\n",
    "        Ya = int(Lgris[i]) # borne inf ordonnées\n",
    "        Yb = int(Lgris[i + 1]) # borne sup ordonnées\n",
    "        \n",
    "        \n",
    "        # On vérifie que Liveaux et Lgris correspondent bien aux spécifications.\n",
    "        # Si ce n'est pas le cas, on lève une exeption.\n",
    "        \n",
    "        assert(a < b) # Lniveaux strictement croissant\n",
    "        assert(Yb >= NOIR) # les élements de Lgris sont positifs\n",
    "        assert(Yb <= BLANC) # les élements de Lgris sont < nb_bits_couleurs\n",
    "        \n",
    "\n",
    "        # pente de la droite reliant les points de coordonnées(a, Ya) et (b, Yb)\n",
    "        m = (Yb- Ya) / (b - a)\n",
    "\n",
    "        # On affecte toutes les valeurs de a à la borne supérieure\n",
    "        for x in range(a, b) :\n",
    "            palette[x] = int(m * (x - a) + Ya)\n",
    "\n",
    "    # On affecte la valeur du dernier élément de palette\n",
    "    palette[nb_niveaux_gris - 1] = int(Lgris[n - 1])\n",
    "    \n",
    "    return(palette)\n",
    "\n",
    "\n",
    "# Préparation de la palette id_niveaux_gris\n",
    "Lniveaux = [0, nb_niveaux_gris - 1]\n",
    "Lgris = [NOIR, BLANC]\n",
    "id_niveaux_gris = [generateur_universel(Lniveaux, Lgris)] * 3\n",
    "# On ne se préoccupe ici pas des problèmes d'alisasing puisque\n",
    "# ce tableau n'est pas destiné à être modifié\n",
    "\n",
    "# Préparation de la palette mont_simple\n",
    "Lniveaux = [0, nb_niveaux_gris // 2 - 1, nb_niveaux_gris // 2, nb_niveaux_gris - 1]\n",
    "Lgris = [NOIR, BLANC, BLANC, NOIR]\n",
    "mont_simple = [generateur_universel(Lniveaux, Lgris)] * 3\n",
    "\n",
    "# Préparation de la palette quatre_monts\n",
    "Lniveaux = [0, nb_niveaux_gris * 1 // 8 - 1, nb_niveaux_gris * 1 // 8, nb_niveaux_gris * 2 // 8 - 1, nb_niveaux_gris * 2 // 8, nb_niveaux_gris * 3 // 8 - 1, nb_niveaux_gris * 3 // 8, nb_niveaux_gris * 4 // 8 - 1, nb_niveaux_gris * 4 // 8, nb_niveaux_gris * 5 // 8 - 1, nb_niveaux_gris * 5 // 8, nb_niveaux_gris * 6 // 8 - 1, nb_niveaux_gris * 6 // 8, nb_niveaux_gris * 7 // 8 - 1, nb_niveaux_gris * 7 // 8, nb_niveaux_gris - 1]\n",
    "Lgris = [NOIR, BLANC,BLANC, NOIR, NOIR,BLANC,BLANC, NOIR, NOIR,BLANC,BLANC, NOIR, NOIR, BLANC, BLANC, NOIR]\n",
    "quatre_monts =  [generateur_universel(Lniveaux, Lgris)] * 3\n",
    "\n",
    "# Préparation de la palette deux_monts_assym\n",
    "Lniveaux = [0, nb_niveaux_gris * 2// 8 - 1, nb_niveaux_gris * 5 // 8 - 1, nb_niveaux_gris * 6 // 8 -1, nb_niveaux_gris - 1 ]\n",
    "Lgris = [NOIR, BLANC, NOIR, BLANC, NOIR]\n",
    "deux_monts_assym =  [generateur_universel(Lniveaux, Lgris)] * 3\n",
    "\n",
    "# Préparation de la palette couleurs_seuils\n",
    "\n",
    "# On note que comme cette palette présente des couleurs, il nous faut travailler sur les \n",
    "# trois composantes RVB car cette fois, celles-ci seront différentes les unes des autres.\n",
    "\n",
    "Lniveaux = [0, nb_niveaux_gris * 1 // 5 - 1,\n",
    "            nb_niveaux_gris * 1 // 5, nb_niveaux_gris * 2 // 5 - 1,\n",
    "            nb_niveaux_gris * 2 // 5, nb_niveaux_gris * 3 // 5 - 1,\n",
    "            nb_niveaux_gris * 3 // 5, nb_niveaux_gris * 4 // 5 - 1,\n",
    "            nb_niveaux_gris * 4 // 5, nb_niveaux_gris - 1]\n",
    "\n",
    "LgrisR = [BLANC, BLANC, NOIR,  NOIR,  NOIR,  NOIR,  NOIR, NOIR, BLANC, BLANC]\n",
    "LgrisG = [NOIR,  NOIR,  BLANC, BLANC, NOIR,  NOIR,  NOIR, NOIR, BLANC, BLANC]\n",
    "LgrisB = [NOIR,  NOIR,  NOIR,  NOIR,  BLANC, BLANC, NOIR, NOIR, BLANC, BLANC]\n",
    "\n",
    "couleurs_seuils = [generateur_universel(Lniveaux, LgrisR),generateur_universel(Lniveaux, LgrisG),generateur_universel(Lniveaux, LgrisB)]"
   ]
  },
  {
   "cell_type": "markdown",
   "id": "characteristic-divide",
   "metadata": {},
   "source": [
    "### Vous pouvez lire toutes les cellules à partir d'ici\n",
    "\n",
    "Commençons par importer les librairies nécessaires."
   ]
  },
  {
   "cell_type": "code",
   "execution_count": 3,
   "id": "bored-parade",
   "metadata": {},
   "outputs": [],
   "source": [
    "import matplotlib.image as matimg\n",
    "import matplotlib.pyplot as plt"
   ]
  },
  {
   "cell_type": "markdown",
   "id": "environmental-labor",
   "metadata": {},
   "source": [
    "Créons maintenant un jeu de données à représenter."
   ]
  },
  {
   "cell_type": "code",
   "execution_count": 4,
   "id": "black-caution",
   "metadata": {},
   "outputs": [],
   "source": [
    "# On prend une image de 256 x 256 pixels..\n",
    "dimension = 256\n",
    "\n",
    "#--------------------- Création du jeu de données-------------------#\n",
    "\n",
    "donnees = []\n",
    "for i in range(dimension) :\n",
    "    # Remplissage des lignes\n",
    "    donnees.append([0]*dimension)\n",
    "    for j in range(dimension//2) :\n",
    "        donnees[i][j] = nb_niveaux_gris - 1 - i\n",
    "        donnees[i][dimension - 1 - j] = i"
   ]
  },
  {
   "cell_type": "markdown",
   "id": "signal-vacuum",
   "metadata": {},
   "source": [
    "Les données sont maintenant remplies, on peut désormais travaillersur la matrice donnees.\n",
    "\n",
    "La fonction cree_image définie ci-dessous, permet de créer une image à partir d'un jeu de données et d'autres paramètres.\n",
    "Lisez cette fonction et notamment ses commentaire afin de comprendre commment l'utiliser.\n"
   ]
  },
  {
   "cell_type": "code",
   "execution_count": 5,
   "id": "purple-radiation",
   "metadata": {},
   "outputs": [],
   "source": [
    "#########################################################################\n",
    "#                                                                       #\n",
    "# La fonction de création d'image permet de créer des images en fonction#\n",
    "# des données passées en arguments (voir ses spécifications).           #\n",
    "#                                                                       #\n",
    "#   CETTE FONCTION NE DOIT PAS ÊTRE MODIFIÉE, LES DONNÉES ET CHOIX DE   #\n",
    "#                 REPRÉSENTATION N'EN DÉPENDENT PAS.                    #\n",
    "#                                                                       #\n",
    "# Les palettes de couleurs fournies sont créées dans la première cellule#\n",
    "# de ce notebook.                                                       #\n",
    "#                                                                       #\n",
    "#########################################################################\n",
    "\n",
    "def cree_image(donnees, palette, nom) :\n",
    "    \"\"\"\n",
    "    Crée une image à partir des données de donnees avec les \n",
    "    couleurs imposées par la palette de couleur palette qui est une \n",
    "    matrice de taille 3 x nb_niveaux_gris, c'est à dire un tableau à 3\n",
    "    éléments dont chaque élément est un tableau à nb_niveaux_gris \n",
    "    éléménts. L'image est enregistrée sous le nom nom. ATTENTION nom est \n",
    "    une chaine de caractère et doit contenir l'extension du fichier crée \n",
    "    par exemple .png. 'mon_image.png' conviendrait. L'image sera \n",
    "    enregistrée dans le répertoire contenant le script.\n",
    "    \"\"\"\n",
    "    \n",
    "    # Création de la matrice contenant les couleurs (tableau d'entiers\n",
    "    # à trois éléments. On commence par créer une matrice vide à\n",
    "    # laquelle on ajoutera des lignes au fur et à mesure et l'on\n",
    "    # remplira ces lignes de la même manière.\n",
    "    image = []\n",
    "\n",
    "    for i in range(dimension) :\n",
    "        image.append([]) # création de la ligne i\n",
    "        for j in range(dimension) :\n",
    "            # ajout du coefficient j de la ligne i\n",
    "            d = donnees[i][j]\n",
    "            triplet_couleurs = (palette[0][d],\n",
    "                                palette[1][d],\n",
    "                                palette[2][d])\n",
    "            # On vérifie que les niveaux des couleurs sont bien dans\n",
    "            # la bonne plage.\n",
    "            assert(triplet_couleurs[0] <= BLANC)\n",
    "            assert(triplet_couleurs[0] >= NOIR)\n",
    "            assert(triplet_couleurs[1] <= BLANC)\n",
    "            assert(triplet_couleurs[1] >= NOIR)\n",
    "            assert(triplet_couleurs[2] <= BLANC)\n",
    "            assert(triplet_couleurs[2] >= NOIR)\n",
    "            # On ajoute le triplet au tableau représentant l'image\n",
    "            image[i].append(triplet_couleurs)\n",
    "            \n",
    "    # Création de l'image. Celle-ci est enregistrée dans le répertoire\n",
    "    # contenant le script.\n",
    "    plt.imshow(image)\n"
   ]
  },
  {
   "cell_type": "markdown",
   "id": "bound-irrigation",
   "metadata": {},
   "source": [
    "## Question 1\n",
    "Pour chacunes des palettes de couleurs suivantes, tracez la figure et tirez des conclusions sur la structure des données.\n",
    "\n",
    "a- mont_simple\n",
    "\n",
    "b- quatre_monts\n",
    "\n",
    "c- deux_monts_assym\n",
    "\n",
    "d- couleurs_seuils"
   ]
  },
  {
   "cell_type": "code",
   "execution_count": null,
   "id": "aboriginal-catch",
   "metadata": {},
   "outputs": [],
   "source": [
    "# affichage de mont_simple\n"
   ]
  },
  {
   "cell_type": "code",
   "execution_count": null,
   "id": "bronze-friday",
   "metadata": {},
   "outputs": [],
   "source": [
    "# affichage de quatre monts\n"
   ]
  },
  {
   "cell_type": "code",
   "execution_count": null,
   "id": "humanitarian-chrome",
   "metadata": {},
   "outputs": [],
   "source": [
    "# affichage de deux_monts_assym\n"
   ]
  },
  {
   "cell_type": "code",
   "execution_count": null,
   "id": "plain-electronics",
   "metadata": {},
   "outputs": [],
   "source": [
    "# affichage de couleurs_seuils\n"
   ]
  },
  {
   "cell_type": "markdown",
   "id": "finnish-candy",
   "metadata": {},
   "source": [
    "## Question 2\n",
    "\n",
    "Tracer la figure correspondant à la fonction de coloriage niveaux_de_gris. Celle-ci représente les données en niveau de gris : l’intensité lumineuse du pixel est égale à la donnée associée au pixel. L’échelle est donc linéaire 0 étant en noir et 255 en blanc.\n",
    "\n",
    "Que pouvez-vous dire des représentations de la question précédente ?\n"
   ]
  },
  {
   "cell_type": "code",
   "execution_count": null,
   "id": "solved-coordinate",
   "metadata": {},
   "outputs": [],
   "source": [
    "# affichage de niveaux_de_gris"
   ]
  },
  {
   "cell_type": "markdown",
   "id": "eleven-wallace",
   "metadata": {},
   "source": [
    "## Question 3\n",
    "Conjecturer maintenant l’allure des fonctions de coloriage de la question 1, c'est-à-dire quelle couleur est associée à quelle donnée."
   ]
  },
  {
   "cell_type": "markdown",
   "id": "common-polish",
   "metadata": {},
   "source": [
    "## Question 4\n",
    "\n",
    "À vous de jouer ! Vous pouvez maintenant créer vos propres fonctions de coloriage afin de voir quelles fonctions peuvent être trompeuses. Pour cela, vous pouvez utiliser la fonction generateur_universel définie dans la première cellule. Les commentaires qui lui sont attribués devraient vous permettre de la comprendre\n",
    "\n",
    "Vous pouvez également créer un autre jeu de données. \n",
    "\n",
    "## Attention à bien respecter le cadre du code qui est indiqué en commentaires.\n"
   ]
  },
  {
   "cell_type": "code",
   "execution_count": null,
   "id": "executed-warehouse",
   "metadata": {},
   "outputs": [],
   "source": [
    "# A vous de jouer !\n"
   ]
  }
 ],
 "metadata": {
  "kernelspec": {
   "display_name": "Python 3",
   "language": "python",
   "name": "python3"
  },
  "language_info": {
   "codemirror_mode": {
    "name": "ipython",
    "version": 3
   },
   "file_extension": ".py",
   "mimetype": "text/x-python",
   "name": "python",
   "nbconvert_exporter": "python",
   "pygments_lexer": "ipython3",
   "version": "3.8.5"
  }
 },
 "nbformat": 4,
 "nbformat_minor": 5
}
