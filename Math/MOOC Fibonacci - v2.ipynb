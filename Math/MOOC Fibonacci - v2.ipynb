{
 "cells": [
  {
   "cell_type": "markdown",
   "metadata": {},
   "source": [
    "## Exercices Python Mooc \"Les lapins de Fibonacci\"\n",
    "\n",
    "Je te propose à travers cette activité d'utiliser le langage Python pour calculer les différentes valeurs de la suite de Fibonacci, soit à l'aide de la relation de récurrence soit à l'aide de la formule explicite.\n",
    "\n",
    "Si besoin, tu trouveras ci-dessous des liens vers des ressources sur le langage Python ou sur l'utilisation de Jupyter Notebook. Mais si tu as des connaissances basiques en Python (tu as peut-être déjà programmé en Python en classe de seconde), tu peux directement réaliser les activités ci-dessous.  \n",
    "- Pour le langage Python : https://docs.python.org/fr/3/tutorial/ \n",
    "- Pour l'utilisation d'un Jupyter Notebook : https://jupyter-notebook.readthedocs.io/en/stable/notebook.html"
   ]
  },
  {
   "cell_type": "markdown",
   "metadata": {},
   "source": [
    "# Vidéo 2 : Calcul du terme général"
   ]
  },
  {
   "cell_type": "markdown",
   "metadata": {},
   "source": [
    "## Exercice 1 : Algorithme à l'aide de la relation de récurrence\n",
    "\n",
    "Je te propose dans cet exercice, de créer une fonction python Fibonacci_1() qui prend en entrée le mois $n$ et qui renvoie le nombre de lapins présents au mois $n$. L'algorithme s'appuiera sur la relation que tu as découverte dans la vidéo qui lie les termes de la suite des mois $n$, $n-1$ et $n-2$. \n",
    "\n",
    "Ensuite, tu peux vérifier que ton programme fonctionne pour le 20ème mois, mois pour lequel nous avons déjà calculé le nombre de lapins présents. \n",
    "J'ai commencé à créer la structure du programme, je te laisse le compléter comme il se doit. Au travail !"
   ]
  },
  {
   "cell_type": "code",
   "execution_count": null,
   "metadata": {},
   "outputs": [],
   "source": [
    "def Fibonacci_1(n): # n correspond à la n-ième génération dont on veut savoir le nombres de couples de lapins\n",
    "    F0 = 0 # F0 corespond à l'initialisation, il n'y a pas de couples de lapin\n",
    "    F1 = 1 # F1 correspond au premier mois, il y a au bout du premier mois 1 couple de lapins\n",
    "    \n",
    "    for k in range(2,n+1) : # Cela signifie que k va de 2 à n+1 non inclus (ie. de 2 à n inclus)\n",
    "        \n",
    "        \n",
    "        \n",
    "        \n",
    "    "
   ]
  },
  {
   "cell_type": "code",
   "execution_count": 1,
   "metadata": {},
   "outputs": [],
   "source": [
    "#Vérifie ici que ton programme fonctionne bien (n'oublie pas d'exécuter ton programme au préalable)\n"
   ]
  },
  {
   "cell_type": "markdown",
   "metadata": {},
   "source": [
    "## Exercice 2 : Algorithme à l'aide de la formule explicite\n",
    "\n",
    "Je te propose dans cette activité, de créer une fonction python Fibonacci_2() qui prend en entrée le mois $n$ et qui renvoie le nombre de lapins présents au mois $n$, mais cette fois-ci en utilisant la formule explicite que nous avons trouvé dans l'exercice \"découverte de la formule générale\". \n",
    "Ensuite, tu peux vérifier que ton programme fonctionne pour le 20ème mois, mois pour lequel nous avons déjà calculé le nombre de lapins présents.\n",
    "Je te laisse la page blanche, et n'hésite pas à t'aider de la fonction précédente si besoin. Courage !"
   ]
  },
  {
   "cell_type": "code",
   "execution_count": null,
   "metadata": {},
   "outputs": [],
   "source": []
  },
  {
   "cell_type": "markdown",
   "metadata": {},
   "source": [
    "$\\textbf{5) Tester le programme avec plusieurs valeurs de n puis le comparer avec celui de l'exercice 1}$"
   ]
  },
  {
   "cell_type": "code",
   "execution_count": null,
   "metadata": {},
   "outputs": [],
   "source": [
    "# Test ci-dessous différentes valeurs"
   ]
  }
 ],
 "metadata": {
  "kernelspec": {
   "display_name": "Python 3",
   "language": "python",
   "name": "python3"
  },
  "language_info": {
   "codemirror_mode": {
    "name": "ipython",
    "version": 3
   },
   "file_extension": ".py",
   "mimetype": "text/x-python",
   "name": "python",
   "nbconvert_exporter": "python",
   "pygments_lexer": "ipython3",
   "version": "3.7.4"
  }
 },
 "nbformat": 4,
 "nbformat_minor": 2
}
